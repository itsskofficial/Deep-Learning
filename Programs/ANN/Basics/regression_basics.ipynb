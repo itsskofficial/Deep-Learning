{
 "cells": [
  {
   "cell_type": "code",
   "execution_count": 1,
   "metadata": {},
   "outputs": [
    {
     "data": {
      "text/plain": [
       "'2.9.1'"
      ]
     },
     "execution_count": 1,
     "metadata": {},
     "output_type": "execute_result"
    }
   ],
   "source": [
    "import tensorflow as tf\n",
    "tf.__version__"
   ]
  },
  {
   "attachments": {},
   "cell_type": "markdown",
   "metadata": {},
   "source": [
    "Creating data to view and fit"
   ]
  },
  {
   "cell_type": "code",
   "execution_count": 2,
   "metadata": {},
   "outputs": [],
   "source": [
    "\n",
    "import numpy as np\n",
    "import matplotlib.pyplot as plt\n",
    "\n",
    "#create features\n",
    "X=np.array([-10,-5,0,5,10])\n",
    "\n",
    "#create labels\n",
    "y=np.array([-12,-7,-2,3,8])"
   ]
  },
  {
   "cell_type": "code",
   "execution_count": 3,
   "metadata": {},
   "outputs": [
    {
     "data": {
      "text/plain": [
       "<matplotlib.collections.PathCollection at 0x1ee2849a170>"
      ]
     },
     "execution_count": 3,
     "metadata": {},
     "output_type": "execute_result"
    },
    {
     "data": {
      "image/png": "[encoded data removed]",
      "text/plain": [
       "<Figure size 640x480 with 1 Axes>"
      ]
     },
     "metadata": {},
     "output_type": "display_data"
    }
   ],
   "source": [
    "plt.scatter(X,y)"
   ]
  },
  {
   "cell_type": "code",
   "execution_count": 4,
   "metadata": {},
   "outputs": [
    {
     "data": {
      "text/plain": [
       "array([ True,  True,  True,  True,  True])"
      ]
     },
     "execution_count": 4,
     "metadata": {},
     "output_type": "execute_result"
    }
   ],
   "source": [
    "y==X-2"
   ]
  },
  {
   "attachments": {},
   "cell_type": "markdown",
   "metadata": {},
   "source": [
    "Input & Output Shapes"
   ]
  },
  {
   "cell_type": "code",
   "execution_count": 5,
   "metadata": {},
   "outputs": [
    {
     "data": {
      "text/plain": [
       "(<tf.Tensor: shape=(5,), dtype=float32, numpy=array([-10.,  -5.,   0.,   5.,  10.], dtype=float32)>,\n",
       " <tf.Tensor: shape=(5,), dtype=float32, numpy=array([-12.,  -7.,  -2.,   3.,   8.], dtype=float32)>)"
      ]
     },
     "execution_count": 5,
     "metadata": {},
     "output_type": "execute_result"
    }
   ],
   "source": [
    "#convert np array into tensors\n",
    "X=tf.cast(tf.constant(X), dtype=tf.float32)\n",
    "y=tf.cast(tf.constant(y), dtype=tf.float32)\n",
    "X,y\n"
   ]
  },
  {
   "attachments": {},
   "cell_type": "markdown",
   "metadata": {},
   "source": [
    "Modelling"
   ]
  },
  {
   "cell_type": "code",
   "execution_count": 6,
   "metadata": {},
   "outputs": [],
   "source": [
    "#set random seed\n",
    "tf.random.set_seed(100)"
   ]
  },
  {
   "cell_type": "code",
   "execution_count": 7,
   "metadata": {},
   "outputs": [],
   "source": [
    "#create a model sequentially\n",
    "model=tf.keras.Sequential()\n",
    "model.add(tf.keras.layers.Dense(1))"
   ]
  },
  {
   "cell_type": "code",
   "execution_count": 8,
   "metadata": {},
   "outputs": [],
   "source": [
    "#compile the model\n",
    "model.compile(loss=tf.keras.losses.mae,\n",
    "              optimizer=tf.keras.optimizers.SGD(),\n",
    "              metrics=['mae'])\n"
   ]
  },
  {
   "cell_type": "code",
   "execution_count": 9,
   "metadata": {},
   "outputs": [
    {
     "name": "stdout",
     "output_type": "stream",
     "text": [
      "Epoch 1/30\n",
      "1/1 [==============================] - 2s 2s/step - loss: 11.6169 - mae: 11.6169\n",
      "Epoch 2/30\n",
      "1/1 [==============================] - 0s 23ms/step - loss: 11.2565 - mae: 11.2565\n",
      "Epoch 3/30\n",
      "1/1 [==============================] - 0s 16ms/step - loss: 10.8961 - mae: 10.8961\n",
      "Epoch 4/30\n",
      "1/1 [==============================] - 0s 17ms/step - loss: 10.5357 - mae: 10.5357\n",
      "Epoch 5/30\n",
      "1/1 [==============================] - 0s 16ms/step - loss: 10.1753 - mae: 10.1753\n",
      "Epoch 6/30\n",
      "1/1 [==============================] - 0s 23ms/step - loss: 9.8149 - mae: 9.8149\n",
      "Epoch 7/30\n",
      "1/1 [==============================] - 0s 17ms/step - loss: 9.4545 - mae: 9.4545\n",
      "Epoch 8/30\n",
      "1/1 [==============================] - 0s 23ms/step - loss: 9.0941 - mae: 9.0941\n",
      "Epoch 9/30\n",
      "1/1 [==============================] - 0s 19ms/step - loss: 8.7337 - mae: 8.7337\n",
      "Epoch 10/30\n",
      "1/1 [==============================] - 0s 19ms/step - loss: 8.3733 - mae: 8.3733\n",
      "Epoch 11/30\n",
      "1/1 [==============================] - 0s 17ms/step - loss: 8.0129 - mae: 8.0129\n",
      "Epoch 12/30\n",
      "1/1 [==============================] - 0s 16ms/step - loss: 7.6525 - mae: 7.6525\n",
      "Epoch 13/30\n",
      "1/1 [==============================] - 0s 15ms/step - loss: 7.2921 - mae: 7.2921\n",
      "Epoch 14/30\n",
      "1/1 [==============================] - 0s 34ms/step - loss: 6.9317 - mae: 6.9317\n",
      "Epoch 15/30\n",
      "1/1 [==============================] - 0s 16ms/step - loss: 6.5713 - mae: 6.5713\n",
      "Epoch 16/30\n",
      "1/1 [==============================] - 0s 17ms/step - loss: 6.2109 - mae: 6.2109\n",
      "Epoch 17/30\n",
      "1/1 [==============================] - 0s 27ms/step - loss: 5.8505 - mae: 5.8505\n",
      "Epoch 18/30\n",
      "1/1 [==============================] - 0s 19ms/step - loss: 5.4901 - mae: 5.4901\n",
      "Epoch 19/30\n",
      "1/1 [==============================] - 0s 17ms/step - loss: 5.1297 - mae: 5.1297\n",
      "Epoch 20/30\n",
      "1/1 [==============================] - 0s 16ms/step - loss: 4.7693 - mae: 4.7693\n",
      "Epoch 21/30\n",
      "1/1 [==============================] - 0s 14ms/step - loss: 4.4089 - mae: 4.4089\n",
      "Epoch 22/30\n",
      "1/1 [==============================] - 0s 33ms/step - loss: 4.0485 - mae: 4.0485\n",
      "Epoch 23/30\n",
      "1/1 [==============================] - 0s 16ms/step - loss: 3.6881 - mae: 3.6881\n",
      "Epoch 24/30\n",
      "1/1 [==============================] - 0s 16ms/step - loss: 3.3277 - mae: 3.3277\n",
      "Epoch 25/30\n",
      "1/1 [==============================] - 0s 25ms/step - loss: 2.9673 - mae: 2.9673\n",
      "Epoch 26/30\n",
      "1/1 [==============================] - 0s 16ms/step - loss: 2.6480 - mae: 2.6480\n",
      "Epoch 27/30\n",
      "1/1 [==============================] - 0s 21ms/step - loss: 2.4844 - mae: 2.4844\n",
      "Epoch 28/30\n",
      "1/1 [==============================] - 0s 16ms/step - loss: 2.3207 - mae: 2.3207\n",
      "Epoch 29/30\n",
      "1/1 [==============================] - 0s 33ms/step - loss: 2.1572 - mae: 2.1572\n",
      "Epoch 30/30\n",
      "1/1 [==============================] - 0s 108ms/step - loss: 1.9935 - mae: 1.9935\n"
     ]
    },
    {
     "data": {
      "text/plain": [
       "<keras.callbacks.History at 0x1ee2a78b130>"
      ]
     },
     "execution_count": 9,
     "metadata": {},
     "output_type": "execute_result"
    }
   ],
   "source": [
    "#fit the model\n",
    "model.fit(tf.expand_dims(X,axis=-1),y,epochs=30)"
   ]
  },
  {
   "cell_type": "code",
   "execution_count": 10,
   "metadata": {},
   "outputs": [
    {
     "name": "stdout",
     "output_type": "stream",
     "text": [
      "1/1 [==============================] - 1s 766ms/step\n"
     ]
    },
    {
     "data": {
      "text/plain": [
       "array([[4.0725627]], dtype=float32)"
      ]
     },
     "execution_count": 10,
     "metadata": {},
     "output_type": "execute_result"
    }
   ],
   "source": [
    "model.predict([5])"
   ]
  },
  {
   "attachments": {},
   "cell_type": "markdown",
   "metadata": {},
   "source": [
    "Improving the model"
   ]
  },
  {
   "cell_type": "code",
   "execution_count": 11,
   "metadata": {},
   "outputs": [],
   "source": [
    "model.add(tf.keras.layers.Dense(1))\n",
    "model.add(tf.keras.layers.Dropout(0.3))\n",
    "model.compile(loss=tf.keras.losses.mae,\n",
    "              optimizer=tf.keras.optimizers.SGD(),\n",
    "              metrics=['mae'])"
   ]
  },
  {
   "cell_type": "code",
   "execution_count": 12,
   "metadata": {},
   "outputs": [
    {
     "name": "stdout",
     "output_type": "stream",
     "text": [
      "Epoch 1/30\n",
      "1/1 [==============================] - 3s 3s/step - loss: 2.9179 - mae: 2.9179\n",
      "Epoch 2/30\n",
      "1/1 [==============================] - 0s 19ms/step - loss: 2.7886 - mae: 2.7886\n",
      "Epoch 3/30\n",
      "1/1 [==============================] - 0s 17ms/step - loss: 5.5989 - mae: 5.5989\n",
      "Epoch 4/30\n",
      "1/1 [==============================] - 0s 28ms/step - loss: 2.8021 - mae: 2.8021\n",
      "Epoch 5/30\n",
      "1/1 [==============================] - 0s 15ms/step - loss: 4.3680 - mae: 4.3680\n",
      "Epoch 6/30\n",
      "1/1 [==============================] - 0s 17ms/step - loss: 2.7469 - mae: 2.7469\n",
      "Epoch 7/30\n",
      "1/1 [==============================] - 0s 21ms/step - loss: 5.1043 - mae: 5.1043\n",
      "Epoch 8/30\n",
      "1/1 [==============================] - 0s 16ms/step - loss: 4.0572 - mae: 4.0572\n",
      "Epoch 9/30\n",
      "1/1 [==============================] - 0s 17ms/step - loss: 1.7190 - mae: 1.7190\n",
      "Epoch 10/30\n",
      "1/1 [==============================] - 0s 16ms/step - loss: 1.8742 - mae: 1.8742\n",
      "Epoch 11/30\n",
      "1/1 [==============================] - 0s 15ms/step - loss: 2.9479 - mae: 2.9479\n",
      "Epoch 12/30\n",
      "1/1 [==============================] - 0s 41ms/step - loss: 5.0494 - mae: 5.0494\n",
      "Epoch 13/30\n",
      "1/1 [==============================] - 0s 16ms/step - loss: 4.1678 - mae: 4.1678\n",
      "Epoch 14/30\n",
      "1/1 [==============================] - 0s 13ms/step - loss: 2.8892 - mae: 2.8892\n",
      "Epoch 15/30\n",
      "1/1 [==============================] - 0s 25ms/step - loss: 3.9426 - mae: 3.9426\n",
      "Epoch 16/30\n",
      "1/1 [==============================] - 0s 12ms/step - loss: 2.6898 - mae: 2.6898\n",
      "Epoch 17/30\n",
      "1/1 [==============================] - 0s 15ms/step - loss: 1.5340 - mae: 1.5340\n",
      "Epoch 18/30\n",
      "1/1 [==============================] - 0s 59ms/step - loss: 2.7629 - mae: 2.7629\n",
      "Epoch 19/30\n",
      "1/1 [==============================] - 0s 14ms/step - loss: 1.4579 - mae: 1.4579\n",
      "Epoch 20/30\n",
      "1/1 [==============================] - 0s 18ms/step - loss: 4.0507 - mae: 4.0507\n",
      "Epoch 21/30\n",
      "1/1 [==============================] - 0s 17ms/step - loss: 3.8980 - mae: 3.8980\n",
      "Epoch 22/30\n",
      "1/1 [==============================] - 0s 16ms/step - loss: 2.6581 - mae: 2.6581\n",
      "Epoch 23/30\n",
      "1/1 [==============================] - 0s 19ms/step - loss: 2.6983 - mae: 2.6983\n",
      "Epoch 24/30\n",
      "1/1 [==============================] - 0s 15ms/step - loss: 3.8704 - mae: 3.8704\n",
      "Epoch 25/30\n",
      "1/1 [==============================] - 0s 14ms/step - loss: 6.4000 - mae: 6.4000\n",
      "Epoch 26/30\n",
      "1/1 [==============================] - 0s 54ms/step - loss: 1.3080 - mae: 1.3080\n",
      "Epoch 27/30\n",
      "1/1 [==============================] - 0s 16ms/step - loss: 6.0055 - mae: 6.0055\n",
      "Epoch 28/30\n",
      "1/1 [==============================] - 0s 16ms/step - loss: 3.8226 - mae: 3.8226\n",
      "Epoch 29/30\n",
      "1/1 [==============================] - 0s 37ms/step - loss: 4.1656 - mae: 4.1656\n",
      "Epoch 30/30\n",
      "1/1 [==============================] - 0s 15ms/step - loss: 1.4722 - mae: 1.4722\n"
     ]
    },
    {
     "data": {
      "text/plain": [
       "<keras.callbacks.History at 0x1ee2aa2dc30>"
      ]
     },
     "execution_count": 12,
     "metadata": {},
     "output_type": "execute_result"
    }
   ],
   "source": [
    "model.fit(tf.expand_dims(X,axis=-1),y,epochs=30)"
   ]
  },
  {
   "cell_type": "code",
   "execution_count": 13,
   "metadata": {},
   "outputs": [
    {
     "name": "stdout",
     "output_type": "stream",
     "text": [
      "1/1 [==============================] - 1s 968ms/step\n"
     ]
    },
    {
     "data": {
      "text/plain": [
       "array([[7.403517]], dtype=float32)"
      ]
     },
     "execution_count": 13,
     "metadata": {},
     "output_type": "execute_result"
    }
   ],
   "source": [
    "model.predict([10])"
   ]
  },
  {
   "attachments": {},
   "cell_type": "markdown",
   "metadata": {},
   "source": [
    "Evaluating the model"
   ]
  },
  {
   "cell_type": "code",
   "execution_count": 14,
   "metadata": {},
   "outputs": [
    {
     "data": {
      "text/plain": [
       "<tf.Tensor: shape=(300,), dtype=int32, numpy=\n",
       "array([100, 103, 106, 109, 112, 115, 118, 121, 124, 127, 130, 133, 136,\n",
       "       139, 142, 145, 148, 151, 154, 157, 160, 163, 166, 169, 172, 175,\n",
       "       178, 181, 184, 187, 190, 193, 196, 199, 202, 205, 208, 211, 214,\n",
       "       217, 220, 223, 226, 229, 232, 235, 238, 241, 244, 247, 250, 253,\n",
       "       256, 259, 262, 265, 268, 271, 274, 277, 280, 283, 286, 289, 292,\n",
       "       295, 298, 301, 304, 307, 310, 313, 316, 319, 322, 325, 328, 331,\n",
       "       334, 337, 340, 343, 346, 349, 352, 355, 358, 361, 364, 367, 370,\n",
       "       373, 376, 379, 382, 385, 388, 391, 394, 397, 400, 403, 406, 409,\n",
       "       412, 415, 418, 421, 424, 427, 430, 433, 436, 439, 442, 445, 448,\n",
       "       451, 454, 457, 460, 463, 466, 469, 472, 475, 478, 481, 484, 487,\n",
       "       490, 493, 496, 499, 502, 505, 508, 511, 514, 517, 520, 523, 526,\n",
       "       529, 532, 535, 538, 541, 544, 547, 550, 553, 556, 559, 562, 565,\n",
       "       568, 571, 574, 577, 580, 583, 586, 589, 592, 595, 598, 601, 604,\n",
       "       607, 610, 613, 616, 619, 622, 625, 628, 631, 634, 637, 640, 643,\n",
       "       646, 649, 652, 655, 658, 661, 664, 667, 670, 673, 676, 679, 682,\n",
       "       685, 688, 691, 694, 697, 700, 703, 706, 709, 712, 715, 718, 721,\n",
       "       724, 727, 730, 733, 736, 739, 742, 745, 748, 751, 754, 757, 760,\n",
       "       763, 766, 769, 772, 775, 778, 781, 784, 787, 790, 793, 796, 799,\n",
       "       802, 805, 808, 811, 814, 817, 820, 823, 826, 829, 832, 835, 838,\n",
       "       841, 844, 847, 850, 853, 856, 859, 862, 865, 868, 871, 874, 877,\n",
       "       880, 883, 886, 889, 892, 895, 898, 901, 904, 907, 910, 913, 916,\n",
       "       919, 922, 925, 928, 931, 934, 937, 940, 943, 946, 949, 952, 955,\n",
       "       958, 961, 964, 967, 970, 973, 976, 979, 982, 985, 988, 991, 994,\n",
       "       997])>"
      ]
     },
     "execution_count": 14,
     "metadata": {},
     "output_type": "execute_result"
    }
   ],
   "source": [
    "#larger dataset\n",
    "X = tf.range(100,1000,3)\n",
    "X"
   ]
  },
  {
   "cell_type": "code",
   "execution_count": 15,
   "metadata": {},
   "outputs": [
    {
     "data": {
      "text/plain": [
       "<tf.Tensor: shape=(300,), dtype=int32, numpy=\n",
       "array([ 133,  136,  139,  142,  145,  148,  151,  154,  157,  160,  163,\n",
       "        166,  169,  172,  175,  178,  181,  184,  187,  190,  193,  196,\n",
       "        199,  202,  205,  208,  211,  214,  217,  220,  223,  226,  229,\n",
       "        232,  235,  238,  241,  244,  247,  250,  253,  256,  259,  262,\n",
       "        265,  268,  271,  274,  277,  280,  283,  286,  289,  292,  295,\n",
       "        298,  301,  304,  307,  310,  313,  316,  319,  322,  325,  328,\n",
       "        331,  334,  337,  340,  343,  346,  349,  352,  355,  358,  361,\n",
       "        364,  367,  370,  373,  376,  379,  382,  385,  388,  391,  394,\n",
       "        397,  400,  403,  406,  409,  412,  415,  418,  421,  424,  427,\n",
       "        430,  433,  436,  439,  442,  445,  448,  451,  454,  457,  460,\n",
       "        463,  466,  469,  472,  475,  478,  481,  484,  487,  490,  493,\n",
       "        496,  499,  502,  505,  508,  511,  514,  517,  520,  523,  526,\n",
       "        529,  532,  535,  538,  541,  544,  547,  550,  553,  556,  559,\n",
       "        562,  565,  568,  571,  574,  577,  580,  583,  586,  589,  592,\n",
       "        595,  598,  601,  604,  607,  610,  613,  616,  619,  622,  625,\n",
       "        628,  631,  634,  637,  640,  643,  646,  649,  652,  655,  658,\n",
       "        661,  664,  667,  670,  673,  676,  679,  682,  685,  688,  691,\n",
       "        694,  697,  700,  703,  706,  709,  712,  715,  718,  721,  724,\n",
       "        727,  730,  733,  736,  739,  742,  745,  748,  751,  754,  757,\n",
       "        760,  763,  766,  769,  772,  775,  778,  781,  784,  787,  790,\n",
       "        793,  796,  799,  802,  805,  808,  811,  814,  817,  820,  823,\n",
       "        826,  829,  832,  835,  838,  841,  844,  847,  850,  853,  856,\n",
       "        859,  862,  865,  868,  871,  874,  877,  880,  883,  886,  889,\n",
       "        892,  895,  898,  901,  904,  907,  910,  913,  916,  919,  922,\n",
       "        925,  928,  931,  934,  937,  940,  943,  946,  949,  952,  955,\n",
       "        958,  961,  964,  967,  970,  973,  976,  979,  982,  985,  988,\n",
       "        991,  994,  997, 1000, 1003, 1006, 1009, 1012, 1015, 1018, 1021,\n",
       "       1024, 1027, 1030])>"
      ]
     },
     "execution_count": 15,
     "metadata": {},
     "output_type": "execute_result"
    }
   ],
   "source": [
    "y=X+33\n",
    "y"
   ]
  },
  {
   "cell_type": "code",
   "execution_count": 16,
   "metadata": {},
   "outputs": [
    {
     "data": {
      "text/plain": [
       "[<matplotlib.lines.Line2D at 0x1ee2bad2770>]"
      ]
     },
     "execution_count": 16,
     "metadata": {},
     "output_type": "execute_result"
    },
    {
     "data": {
      "image/png": "[encoded data removed]",
      "text/plain": [
       "<Figure size 640x480 with 1 Axes>"
      ]
     },
     "metadata": {},
     "output_type": "display_data"
    }
   ],
   "source": [
    "#visualize the data\n",
    "plt.plot(X,y)"
   ]
  },
  {
   "cell_type": "code",
   "execution_count": 17,
   "metadata": {},
   "outputs": [
    {
     "data": {
      "text/plain": [
       "<matplotlib.collections.PathCollection at 0x1ee2bb39420>"
      ]
     },
     "execution_count": 17,
     "metadata": {},
     "output_type": "execute_result"
    },
    {
     "data": {
      "image/png": "[encoded data removed]",
      "text/plain": [
       "<Figure size 640x480 with 1 Axes>"
      ]
     },
     "metadata": {},
     "output_type": "display_data"
    }
   ],
   "source": [
    "plt.scatter(X,y)"
   ]
  },
  {
   "cell_type": "code",
   "execution_count": 18,
   "metadata": {},
   "outputs": [
    {
     "data": {
      "text/plain": [
       "300"
      ]
     },
     "execution_count": 18,
     "metadata": {},
     "output_type": "execute_result"
    }
   ],
   "source": [
    "len(X)"
   ]
  },
  {
   "cell_type": "code",
   "execution_count": 19,
   "metadata": {},
   "outputs": [
    {
     "data": {
      "text/plain": [
       "(240, 60)"
      ]
     },
     "execution_count": 19,
     "metadata": {},
     "output_type": "execute_result"
    }
   ],
   "source": [
    "X_train,y_train = X[:240],y[:240]\n",
    "X_test,y_test = X[240:],y[240:]\n",
    "len(X_train),len(X_test)"
   ]
  },
  {
   "cell_type": "code",
   "execution_count": 20,
   "metadata": {},
   "outputs": [
    {
     "data": {
      "text/plain": [
       "<matplotlib.collections.PathCollection at 0x1ee2bcb78e0>"
      ]
     },
     "execution_count": 20,
     "metadata": {},
     "output_type": "execute_result"
    },
    {
     "data": {
      "image/png": "[encoded data removed]",
      "text/plain": [
       "<Figure size 1000x700 with 1 Axes>"
      ]
     },
     "metadata": {},
     "output_type": "display_data"
    }
   ],
   "source": [
    "#visualizing the sets\n",
    "plt.figure(figsize=(10,7))\n",
    "plt.scatter(X_train,y_train,c='r',label='Training Data')\n",
    "plt.scatter(X_test,y_test,c='b',label='Testing Data')"
   ]
  },
  {
   "cell_type": "code",
   "execution_count": 21,
   "metadata": {},
   "outputs": [],
   "source": [
    "#building the model\n",
    "model=tf.keras.Sequential()\n",
    "model.add(tf.keras.layers.Dense(1, input_shape=[1]))\n"
   ]
  },
  {
   "cell_type": "code",
   "execution_count": 22,
   "metadata": {},
   "outputs": [],
   "source": [
    "#compiling the model\n",
    "model.compile(loss=tf.keras.losses.mae,\n",
    "              optimizer=tf.keras.optimizers.Adam(learning_rate=0.0001),\n",
    "              metrics=['mae'])"
   ]
  },
  {
   "cell_type": "code",
   "execution_count": 23,
   "metadata": {},
   "outputs": [
    {
     "name": "stdout",
     "output_type": "stream",
     "text": [
      "Model: \"sequential_1\"\n",
      "_________________________________________________________________\n",
      " Layer (type)                Output Shape              Param #   \n",
      "=================================================================\n",
      " dense_2 (Dense)             (None, 1)                 2         \n",
      "                                                                 \n",
      "=================================================================\n",
      "Total params: 2\n",
      "Trainable params: 2\n",
      "Non-trainable params: 0\n",
      "_________________________________________________________________\n"
     ]
    }
   ],
   "source": [
    "model.summary()"
   ]
  },
  {
   "cell_type": "code",
   "execution_count": 24,
   "metadata": {},
   "outputs": [
    {
     "name": "stdout",
     "output_type": "stream",
     "text": [
      "Epoch 1/100\n",
      "8/8 [==============================] - 3s 6ms/step - loss: 1102.3776 - mae: 1102.3776\n",
      "Epoch 2/100\n",
      "8/8 [==============================] - 0s 10ms/step - loss: 1102.0089 - mae: 1102.0089\n",
      "Epoch 3/100\n",
      "8/8 [==============================] - 0s 9ms/step - loss: 1101.6464 - mae: 1101.6464\n",
      "Epoch 4/100\n",
      "8/8 [==============================] - 0s 11ms/step - loss: 1101.2762 - mae: 1101.2762\n",
      "Epoch 5/100\n",
      "8/8 [==============================] - 0s 7ms/step - loss: 1100.9130 - mae: 1100.9130\n",
      "Epoch 6/100\n",
      "8/8 [==============================] - 0s 9ms/step - loss: 1100.5453 - mae: 1100.5453\n",
      "Epoch 7/100\n",
      "8/8 [==============================] - 0s 9ms/step - loss: 1100.1781 - mae: 1100.1781\n",
      "Epoch 8/100\n",
      "8/8 [==============================] - 0s 9ms/step - loss: 1099.8112 - mae: 1099.8112\n",
      "Epoch 9/100\n",
      "8/8 [==============================] - 0s 6ms/step - loss: 1099.4448 - mae: 1099.4448\n",
      "Epoch 10/100\n",
      "8/8 [==============================] - 0s 7ms/step - loss: 1099.0819 - mae: 1099.0819\n",
      "Epoch 11/100\n",
      "8/8 [==============================] - 0s 6ms/step - loss: 1098.7107 - mae: 1098.7107\n",
      "Epoch 12/100\n",
      "8/8 [==============================] - 0s 8ms/step - loss: 1098.3441 - mae: 1098.3441\n",
      "Epoch 13/100\n",
      "8/8 [==============================] - 0s 6ms/step - loss: 1097.9766 - mae: 1097.9766\n",
      "Epoch 14/100\n",
      "8/8 [==============================] - 0s 10ms/step - loss: 1097.6069 - mae: 1097.6069\n",
      "Epoch 15/100\n",
      "8/8 [==============================] - 0s 6ms/step - loss: 1097.2415 - mae: 1097.2415\n",
      "Epoch 16/100\n",
      "8/8 [==============================] - 0s 7ms/step - loss: 1096.8727 - mae: 1096.8727\n",
      "Epoch 17/100\n",
      "8/8 [==============================] - 0s 12ms/step - loss: 1096.5059 - mae: 1096.5059\n",
      "Epoch 18/100\n",
      "8/8 [==============================] - 0s 10ms/step - loss: 1096.1365 - mae: 1096.1365\n",
      "Epoch 19/100\n",
      "8/8 [==============================] - 0s 12ms/step - loss: 1095.7701 - mae: 1095.7701\n",
      "Epoch 20/100\n",
      "8/8 [==============================] - 0s 14ms/step - loss: 1095.3989 - mae: 1095.3989\n",
      "Epoch 21/100\n",
      "8/8 [==============================] - 0s 11ms/step - loss: 1095.0360 - mae: 1095.0360\n",
      "Epoch 22/100\n",
      "8/8 [==============================] - 0s 9ms/step - loss: 1094.6705 - mae: 1094.6705\n",
      "Epoch 23/100\n",
      "8/8 [==============================] - 0s 8ms/step - loss: 1094.3031 - mae: 1094.3031\n",
      "Epoch 24/100\n",
      "8/8 [==============================] - 0s 6ms/step - loss: 1093.9343 - mae: 1093.9343\n",
      "Epoch 25/100\n",
      "8/8 [==============================] - 0s 10ms/step - loss: 1093.5621 - mae: 1093.5621\n",
      "Epoch 26/100\n",
      "8/8 [==============================] - 0s 7ms/step - loss: 1093.2030 - mae: 1093.2030\n",
      "Epoch 27/100\n",
      "8/8 [==============================] - 0s 7ms/step - loss: 1092.8290 - mae: 1092.8290\n",
      "Epoch 28/100\n",
      "8/8 [==============================] - 0s 9ms/step - loss: 1092.4669 - mae: 1092.4669\n",
      "Epoch 29/100\n",
      "8/8 [==============================] - 0s 9ms/step - loss: 1092.1002 - mae: 1092.1002\n",
      "Epoch 30/100\n",
      "8/8 [==============================] - 0s 6ms/step - loss: 1091.7310 - mae: 1091.7310\n",
      "Epoch 31/100\n",
      "8/8 [==============================] - 0s 7ms/step - loss: 1091.3689 - mae: 1091.3689\n",
      "Epoch 32/100\n",
      "8/8 [==============================] - 0s 10ms/step - loss: 1091.0017 - mae: 1091.0017\n",
      "Epoch 33/100\n",
      "8/8 [==============================] - 0s 9ms/step - loss: 1090.6322 - mae: 1090.6322\n",
      "Epoch 34/100\n",
      "8/8 [==============================] - 0s 9ms/step - loss: 1090.2667 - mae: 1090.2667\n",
      "Epoch 35/100\n",
      "8/8 [==============================] - 0s 15ms/step - loss: 1089.8981 - mae: 1089.8981\n",
      "Epoch 36/100\n",
      "8/8 [==============================] - 0s 6ms/step - loss: 1089.5294 - mae: 1089.5294\n",
      "Epoch 37/100\n",
      "8/8 [==============================] - 0s 6ms/step - loss: 1089.1674 - mae: 1089.1674\n",
      "Epoch 38/100\n",
      "8/8 [==============================] - 0s 12ms/step - loss: 1088.7996 - mae: 1088.7996\n",
      "Epoch 39/100\n",
      "8/8 [==============================] - 0s 11ms/step - loss: 1088.4313 - mae: 1088.4313\n",
      "Epoch 40/100\n",
      "8/8 [==============================] - 0s 6ms/step - loss: 1088.0625 - mae: 1088.0625\n",
      "Epoch 41/100\n",
      "8/8 [==============================] - 0s 9ms/step - loss: 1087.6935 - mae: 1087.6935\n",
      "Epoch 42/100\n",
      "8/8 [==============================] - 0s 7ms/step - loss: 1087.3297 - mae: 1087.3297\n",
      "Epoch 43/100\n",
      "8/8 [==============================] - 0s 6ms/step - loss: 1086.9546 - mae: 1086.9546\n",
      "Epoch 44/100\n",
      "8/8 [==============================] - 0s 10ms/step - loss: 1086.5864 - mae: 1086.5864\n",
      "Epoch 45/100\n",
      "8/8 [==============================] - 0s 10ms/step - loss: 1086.2183 - mae: 1086.2183\n",
      "Epoch 46/100\n",
      "8/8 [==============================] - 0s 7ms/step - loss: 1085.8480 - mae: 1085.8480\n",
      "Epoch 47/100\n",
      "8/8 [==============================] - 0s 11ms/step - loss: 1085.4861 - mae: 1085.4861\n",
      "Epoch 48/100\n",
      "8/8 [==============================] - 0s 16ms/step - loss: 1085.1187 - mae: 1085.1187\n",
      "Epoch 49/100\n",
      "8/8 [==============================] - 0s 8ms/step - loss: 1084.7474 - mae: 1084.7474\n",
      "Epoch 50/100\n",
      "8/8 [==============================] - 0s 14ms/step - loss: 1084.3867 - mae: 1084.3867\n",
      "Epoch 51/100\n",
      "8/8 [==============================] - 0s 9ms/step - loss: 1084.0183 - mae: 1084.0183\n",
      "Epoch 52/100\n",
      "8/8 [==============================] - 0s 9ms/step - loss: 1083.6508 - mae: 1083.6508\n",
      "Epoch 53/100\n",
      "8/8 [==============================] - 0s 10ms/step - loss: 1083.2810 - mae: 1083.2810\n",
      "Epoch 54/100\n",
      "8/8 [==============================] - 0s 10ms/step - loss: 1082.9149 - mae: 1082.9149\n",
      "Epoch 55/100\n",
      "8/8 [==============================] - 0s 7ms/step - loss: 1082.5509 - mae: 1082.5509\n",
      "Epoch 56/100\n",
      "8/8 [==============================] - 0s 10ms/step - loss: 1082.1830 - mae: 1082.1830\n",
      "Epoch 57/100\n",
      "8/8 [==============================] - 0s 8ms/step - loss: 1081.8163 - mae: 1081.8163\n",
      "Epoch 58/100\n",
      "8/8 [==============================] - 0s 7ms/step - loss: 1081.4540 - mae: 1081.4540\n",
      "Epoch 59/100\n",
      "8/8 [==============================] - 0s 11ms/step - loss: 1081.0865 - mae: 1081.0865\n",
      "Epoch 60/100\n",
      "8/8 [==============================] - 0s 7ms/step - loss: 1080.7218 - mae: 1080.7218\n",
      "Epoch 61/100\n",
      "8/8 [==============================] - 0s 10ms/step - loss: 1080.3589 - mae: 1080.3589\n",
      "Epoch 62/100\n",
      "8/8 [==============================] - 0s 6ms/step - loss: 1079.9911 - mae: 1079.9911\n",
      "Epoch 63/100\n",
      "8/8 [==============================] - 0s 8ms/step - loss: 1079.6276 - mae: 1079.6276\n",
      "Epoch 64/100\n",
      "8/8 [==============================] - 0s 9ms/step - loss: 1079.2570 - mae: 1079.2570\n",
      "Epoch 65/100\n",
      "8/8 [==============================] - 0s 6ms/step - loss: 1078.8921 - mae: 1078.8921\n",
      "Epoch 66/100\n",
      "8/8 [==============================] - 0s 7ms/step - loss: 1078.5226 - mae: 1078.5226\n",
      "Epoch 67/100\n",
      "8/8 [==============================] - 0s 6ms/step - loss: 1078.1553 - mae: 1078.1553\n",
      "Epoch 68/100\n",
      "8/8 [==============================] - 0s 5ms/step - loss: 1077.7849 - mae: 1077.7849\n",
      "Epoch 69/100\n",
      "8/8 [==============================] - 0s 6ms/step - loss: 1077.4216 - mae: 1077.4216\n",
      "Epoch 70/100\n",
      "8/8 [==============================] - 0s 4ms/step - loss: 1077.0518 - mae: 1077.0518\n",
      "Epoch 71/100\n",
      "8/8 [==============================] - 0s 6ms/step - loss: 1076.6835 - mae: 1076.6835\n",
      "Epoch 72/100\n",
      "8/8 [==============================] - 0s 5ms/step - loss: 1076.3212 - mae: 1076.3212\n",
      "Epoch 73/100\n",
      "8/8 [==============================] - 0s 5ms/step - loss: 1075.9518 - mae: 1075.9518\n",
      "Epoch 74/100\n",
      "8/8 [==============================] - 0s 8ms/step - loss: 1075.5939 - mae: 1075.5939\n",
      "Epoch 75/100\n",
      "8/8 [==============================] - 0s 9ms/step - loss: 1075.2261 - mae: 1075.2261\n",
      "Epoch 76/100\n",
      "8/8 [==============================] - 0s 6ms/step - loss: 1074.8600 - mae: 1074.8600\n",
      "Epoch 77/100\n",
      "8/8 [==============================] - 0s 6ms/step - loss: 1074.4946 - mae: 1074.4946\n",
      "Epoch 78/100\n",
      "8/8 [==============================] - 0s 6ms/step - loss: 1074.1277 - mae: 1074.1277\n",
      "Epoch 79/100\n",
      "8/8 [==============================] - 0s 6ms/step - loss: 1073.7615 - mae: 1073.7615\n",
      "Epoch 80/100\n",
      "8/8 [==============================] - 0s 6ms/step - loss: 1073.3960 - mae: 1073.3960\n",
      "Epoch 81/100\n",
      "8/8 [==============================] - 0s 9ms/step - loss: 1073.0262 - mae: 1073.0262\n",
      "Epoch 82/100\n",
      "8/8 [==============================] - 0s 10ms/step - loss: 1072.6617 - mae: 1072.6617\n",
      "Epoch 83/100\n",
      "8/8 [==============================] - 0s 9ms/step - loss: 1072.2943 - mae: 1072.2943\n",
      "Epoch 84/100\n",
      "8/8 [==============================] - 0s 5ms/step - loss: 1071.9291 - mae: 1071.9291\n",
      "Epoch 85/100\n",
      "8/8 [==============================] - 0s 9ms/step - loss: 1071.5631 - mae: 1071.5631\n",
      "Epoch 86/100\n",
      "8/8 [==============================] - 0s 8ms/step - loss: 1071.1982 - mae: 1071.1982\n",
      "Epoch 87/100\n",
      "8/8 [==============================] - 0s 9ms/step - loss: 1070.8319 - mae: 1070.8319\n",
      "Epoch 88/100\n",
      "8/8 [==============================] - 0s 8ms/step - loss: 1070.4698 - mae: 1070.4698\n",
      "Epoch 89/100\n",
      "8/8 [==============================] - 0s 16ms/step - loss: 1070.1014 - mae: 1070.1014\n",
      "Epoch 90/100\n",
      "8/8 [==============================] - 0s 11ms/step - loss: 1069.7318 - mae: 1069.7318\n",
      "Epoch 91/100\n",
      "8/8 [==============================] - 0s 9ms/step - loss: 1069.3661 - mae: 1069.3661\n",
      "Epoch 92/100\n",
      "8/8 [==============================] - 0s 7ms/step - loss: 1069.0054 - mae: 1069.0054\n",
      "Epoch 93/100\n",
      "8/8 [==============================] - 0s 10ms/step - loss: 1068.6340 - mae: 1068.6340\n",
      "Epoch 94/100\n",
      "8/8 [==============================] - 0s 11ms/step - loss: 1068.2694 - mae: 1068.2694\n",
      "Epoch 95/100\n",
      "8/8 [==============================] - 0s 11ms/step - loss: 1067.9022 - mae: 1067.9022\n",
      "Epoch 96/100\n",
      "8/8 [==============================] - 0s 7ms/step - loss: 1067.5409 - mae: 1067.5409\n",
      "Epoch 97/100\n",
      "8/8 [==============================] - 0s 12ms/step - loss: 1067.1798 - mae: 1067.1798\n",
      "Epoch 98/100\n",
      "8/8 [==============================] - 0s 9ms/step - loss: 1066.8102 - mae: 1066.8102\n",
      "Epoch 99/100\n",
      "8/8 [==============================] - 0s 10ms/step - loss: 1066.4496 - mae: 1066.4496\n",
      "Epoch 100/100\n",
      "8/8 [==============================] - 0s 11ms/step - loss: 1066.0792 - mae: 1066.0792\n"
     ]
    },
    {
     "data": {
      "text/plain": [
       "<keras.callbacks.History at 0x1ee2bd126b0>"
      ]
     },
     "execution_count": 24,
     "metadata": {},
     "output_type": "execute_result"
    }
   ],
   "source": [
    "#fitting the model\n",
    "model.fit(X_train,y_train, epochs = 100)"
   ]
  },
  {
   "cell_type": "code",
   "execution_count": 25,
   "metadata": {},
   "outputs": [
    {
     "data": {
      "image/png": "[encoded data removed]",
      "text/plain": [
       "<IPython.core.display.Image object>"
      ]
     },
     "execution_count": 25,
     "metadata": {},
     "output_type": "execute_result"
    }
   ],
   "source": [
    "tf.keras.utils.plot_model(model=model,show_shapes=True)"
   ]
  },
  {
   "cell_type": "code",
   "execution_count": 26,
   "metadata": {},
   "outputs": [
    {
     "name": "stdout",
     "output_type": "stream",
     "text": [
      "2/2 [==============================] - 0s 10ms/step\n"
     ]
    },
    {
     "data": {
      "text/plain": [
       "(array([[-1027.2698],\n",
       "        [-1031.0284],\n",
       "        [-1034.787 ],\n",
       "        [-1038.5455],\n",
       "        [-1042.3042],\n",
       "        [-1046.0627],\n",
       "        [-1049.8214],\n",
       "        [-1053.58  ],\n",
       "        [-1057.3386],\n",
       "        [-1061.0972],\n",
       "        [-1064.8557],\n",
       "        [-1068.6144],\n",
       "        [-1072.3729],\n",
       "        [-1076.1316],\n",
       "        [-1079.8901],\n",
       "        [-1083.6488],\n",
       "        [-1087.4073],\n",
       "        [-1091.1659],\n",
       "        [-1094.9246],\n",
       "        [-1098.6831],\n",
       "        [-1102.4418],\n",
       "        [-1106.2003],\n",
       "        [-1109.959 ],\n",
       "        [-1113.7175],\n",
       "        [-1117.4761],\n",
       "        [-1121.2347],\n",
       "        [-1124.9933],\n",
       "        [-1128.752 ],\n",
       "        [-1132.5105],\n",
       "        [-1136.269 ],\n",
       "        [-1140.0277],\n",
       "        [-1143.7863],\n",
       "        [-1147.5449],\n",
       "        [-1151.3035],\n",
       "        [-1155.0621],\n",
       "        [-1158.8207],\n",
       "        [-1162.5792],\n",
       "        [-1166.3379],\n",
       "        [-1170.0964],\n",
       "        [-1173.8551],\n",
       "        [-1177.6136],\n",
       "        [-1181.3723],\n",
       "        [-1185.1309],\n",
       "        [-1188.8894],\n",
       "        [-1192.6481],\n",
       "        [-1196.4066],\n",
       "        [-1200.1653],\n",
       "        [-1203.9238],\n",
       "        [-1207.6825],\n",
       "        [-1211.441 ],\n",
       "        [-1215.1996],\n",
       "        [-1218.9583],\n",
       "        [-1222.7168],\n",
       "        [-1226.4755],\n",
       "        [-1230.234 ],\n",
       "        [-1233.9926],\n",
       "        [-1237.7512],\n",
       "        [-1241.5098],\n",
       "        [-1245.2684],\n",
       "        [-1249.027 ]], dtype=float32),\n",
       " <tf.Tensor: shape=(60,), dtype=int32, numpy=\n",
       " array([ 853,  856,  859,  862,  865,  868,  871,  874,  877,  880,  883,\n",
       "         886,  889,  892,  895,  898,  901,  904,  907,  910,  913,  916,\n",
       "         919,  922,  925,  928,  931,  934,  937,  940,  943,  946,  949,\n",
       "         952,  955,  958,  961,  964,  967,  970,  973,  976,  979,  982,\n",
       "         985,  988,  991,  994,  997, 1000, 1003, 1006, 1009, 1012, 1015,\n",
       "        1018, 1021, 1024, 1027, 1030])>)"
      ]
     },
     "execution_count": 26,
     "metadata": {},
     "output_type": "execute_result"
    }
   ],
   "source": [
    "#visualizing model's predictions\n",
    "y_pred=model.predict(X_test)\n",
    "y_pred,y_test"
   ]
  },
  {
   "cell_type": "code",
   "execution_count": 27,
   "metadata": {},
   "outputs": [],
   "source": [
    "#plotting predictions\n",
    "def plot_predictions(train_data=X_train,\n",
    "                     train_labels=y_train,\n",
    "                     test_data=X_test,\n",
    "                     test_labels=y_test,\n",
    "                     predictions=y_pred):\n",
    "    \"\"\"Plotting predictions\"\"\"\n",
    "    plt.figure(figsize=(10,7))\n",
    "    plt.scatter(train_data,train_labels,s=1,c='r', label=\"Training data\")\n",
    "    plt.scatter(test_data,test_labels,s=1,c='b', label=\"Testing data\")\n",
    "    plt.scatter(test_data,predictions,s=1,c='g',label='Predictions')\n",
    "    plt.legend();\n"
   ]
  },
  {
   "cell_type": "code",
   "execution_count": 28,
   "metadata": {},
   "outputs": [
    {
     "data": {
      "image/png": "[encoded data removed]",
      "text/plain": [
       "<Figure size 1000x700 with 1 Axes>"
      ]
     },
     "metadata": {},
     "output_type": "display_data"
    }
   ],
   "source": [
    "plot_predictions()"
   ]
  },
  {
   "cell_type": "code",
   "execution_count": 29,
   "metadata": {},
   "outputs": [
    {
     "name": "stdout",
     "output_type": "stream",
     "text": [
      "2/2 [==============================] - 2s 17ms/step - loss: 2079.6484 - mae: 2079.6484\n"
     ]
    },
    {
     "data": {
      "text/plain": [
       "[2079.6484375, 2079.6484375]"
      ]
     },
     "execution_count": 29,
     "metadata": {},
     "output_type": "execute_result"
    }
   ],
   "source": [
    "#eva;uating with evaluation metrics\n",
    "model.evaluate(X_test,y_test)"
   ]
  },
  {
   "cell_type": "code",
   "execution_count": 30,
   "metadata": {},
   "outputs": [
    {
     "name": "stdout",
     "output_type": "stream",
     "text": [
      "2/2 [==============================] - 1s 13ms/step - loss: 41.3446 - mae: 41.3446\n"
     ]
    },
    {
     "data": {
      "text/plain": [
       "[41.34456253051758, 41.34456253051758]"
      ]
     },
     "execution_count": 30,
     "metadata": {},
     "output_type": "execute_result"
    }
   ],
   "source": [
    "model.evaluate(y_test,y_pred)"
   ]
  },
  {
   "cell_type": "code",
   "execution_count": 31,
   "metadata": {},
   "outputs": [
    {
     "data": {
      "text/plain": [
       "<tf.Tensor: shape=(), dtype=float32, numpy=2079.6484>"
      ]
     },
     "execution_count": 31,
     "metadata": {},
     "output_type": "execute_result"
    }
   ],
   "source": [
    "y_pred=tf.squeeze(tf.constant(y_pred))\n",
    "tf.metrics.MAE(y_test,y_pred)"
   ]
  },
  {
   "cell_type": "code",
   "execution_count": 32,
   "metadata": {},
   "outputs": [
    {
     "data": {
      "text/plain": [
       "<tf.Tensor: shape=(), dtype=float32, numpy=4338637.0>"
      ]
     },
     "execution_count": 32,
     "metadata": {},
     "output_type": "execute_result"
    }
   ],
   "source": [
    "tf.metrics.MSE(y_test,y_pred)"
   ]
  },
  {
   "cell_type": "code",
   "execution_count": 33,
   "metadata": {},
   "outputs": [
    {
     "data": {
      "text/plain": [
       "<matplotlib.collections.PathCollection at 0x1ee2be23fd0>"
      ]
     },
     "execution_count": 33,
     "metadata": {},
     "output_type": "execute_result"
    },
    {
     "data": {
      "image/png": "[encoded data removed]",
      "text/plain": [
       "<Figure size 640x480 with 1 Axes>"
      ]
     },
     "metadata": {},
     "output_type": "display_data"
    }
   ],
   "source": [
    "plt.scatter(y_test,y_pred, c='r')\n",
    "plt.scatter(X_test,y_test, c='b')"
   ]
  },
  {
   "cell_type": "code",
   "execution_count": 34,
   "metadata": {},
   "outputs": [
    {
     "ename": "InvalidArgumentError",
     "evalue": "Failed to create a directory: models\regression_basics; Invalid argument",
     "output_type": "error",
     "traceback": [
      "\u001b[1;31m---------------------------------------------------------------------------\u001b[0m",
      "\u001b[1;31mInvalidArgumentError\u001b[0m                      Traceback (most recent call last)",
      "\u001b[1;32md:\\Skills\\Repos\\Deep Learning\\TensorFlow\\Regression\\regression_basics.ipynb Cell 39\u001b[0m in \u001b[0;36m2\n\u001b[0;32m      <a href='vscode-notebook-cell:/d%3A/Skills/Repos/Deep%20Learning/TensorFlow/Regression/regression_basics.ipynb#X53sZmlsZQ%3D%3D?line=0'>1</a>\u001b[0m \u001b[39m#saving the model\u001b[39;00m\n\u001b[1;32m----> <a href='vscode-notebook-cell:/d%3A/Skills/Repos/Deep%20Learning/TensorFlow/Regression/regression_basics.ipynb#X53sZmlsZQ%3D%3D?line=1'>2</a>\u001b[0m model\u001b[39m.\u001b[39;49msave(\u001b[39m\"\u001b[39;49m\u001b[39mmodels\u001b[39;49m\u001b[39m\\r\u001b[39;49;00m\u001b[39megression_basics\u001b[39;49m\u001b[39m\"\u001b[39;49m)\n",
      "File \u001b[1;32md:\\Frameworks\\Python\\lib\\site-packages\\keras\\utils\\traceback_utils.py:67\u001b[0m, in \u001b[0;36mfilter_traceback.<locals>.error_handler\u001b[1;34m(*args, **kwargs)\u001b[0m\n\u001b[0;32m     65\u001b[0m \u001b[39mexcept\u001b[39;00m \u001b[39mException\u001b[39;00m \u001b[39mas\u001b[39;00m e:  \u001b[39m# pylint: disable=broad-except\u001b[39;00m\n\u001b[0;32m     66\u001b[0m   filtered_tb \u001b[39m=\u001b[39m _process_traceback_frames(e\u001b[39m.\u001b[39m__traceback__)\n\u001b[1;32m---> 67\u001b[0m   \u001b[39mraise\u001b[39;00m e\u001b[39m.\u001b[39mwith_traceback(filtered_tb) \u001b[39mfrom\u001b[39;00m \u001b[39mNone\u001b[39m\n\u001b[0;32m     68\u001b[0m \u001b[39mfinally\u001b[39;00m:\n\u001b[0;32m     69\u001b[0m   \u001b[39mdel\u001b[39;00m filtered_tb\n",
      "File \u001b[1;32md:\\Frameworks\\Python\\lib\\site-packages\\tensorflow\\python\\lib\\io\\file_io.py:511\u001b[0m, in \u001b[0;36mrecursive_create_dir_v2\u001b[1;34m(path)\u001b[0m\n\u001b[0;32m    499\u001b[0m \u001b[39m@tf_export\u001b[39m(\u001b[39m\"\u001b[39m\u001b[39mio.gfile.makedirs\u001b[39m\u001b[39m\"\u001b[39m)\n\u001b[0;32m    500\u001b[0m \u001b[39mdef\u001b[39;00m \u001b[39mrecursive_create_dir_v2\u001b[39m(path):\n\u001b[0;32m    501\u001b[0m   \u001b[39m\"\"\"Creates a directory and all parent/intermediate directories.\u001b[39;00m\n\u001b[0;32m    502\u001b[0m \n\u001b[0;32m    503\u001b[0m \u001b[39m  It succeeds if path already exists and is writable.\u001b[39;00m\n\u001b[1;32m   (...)\u001b[0m\n\u001b[0;32m    509\u001b[0m \u001b[39m    errors.OpError: If the operation fails.\u001b[39;00m\n\u001b[0;32m    510\u001b[0m \u001b[39m  \"\"\"\u001b[39;00m\n\u001b[1;32m--> 511\u001b[0m   _pywrap_file_io\u001b[39m.\u001b[39;49mRecursivelyCreateDir(compat\u001b[39m.\u001b[39;49mpath_to_bytes(path))\n",
      "\u001b[1;31mInvalidArgumentError\u001b[0m: Failed to create a directory: models\regression_basics; Invalid argument"
     ]
    }
   ],
   "source": [
    "#saving the model\n",
    "model.save(\"models\\regression_basics\")"
   ]
  },
  {
   "cell_type": "code",
   "execution_count": 170,
   "metadata": {},
   "outputs": [],
   "source": []
  },
  {
   "cell_type": "code",
   "execution_count": null,
   "metadata": {},
   "outputs": [],
   "source": []
  }
 ],
 "metadata": {
  "kernelspec": {
   "display_name": "Python 3",
   "language": "python",
   "name": "python3"
  },
  "language_info": {
   "codemirror_mode": {
    "name": "ipython",
    "version": 3
   },
   "file_extension": ".py",
   "mimetype": "text/x-python",
   "name": "python",
   "nbconvert_exporter": "python",
   "pygments_lexer": "ipython3",
   "version": "3.10.0"
  },
  "orig_nbformat": 4
 },
 "nbformat": 4,
 "nbformat_minor": 2
}
