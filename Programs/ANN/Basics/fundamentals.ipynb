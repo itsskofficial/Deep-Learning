{
 "cells": [
  {
   "cell_type": "code",
   "execution_count": 1,
   "metadata": {},
   "outputs": [
    {
     "name": "stdout",
     "output_type": "stream",
     "text": [
      "2.9.1\n"
     ]
    }
   ],
   "source": [
    "import tensorflow as tf\n",
    "print (tf.__version__)"
   ]
  },
  {
   "cell_type": "code",
   "execution_count": 2,
   "metadata": {},
   "outputs": [
    {
     "data": {
      "text/plain": [
       "<tf.Tensor: shape=(), dtype=int32, numpy=3>"
      ]
     },
     "execution_count": 2,
     "metadata": {},
     "output_type": "execute_result"
    }
   ],
   "source": [
    "scalar = tf.constant(3)\n",
    "scalar"
   ]
  },
  {
   "cell_type": "code",
   "execution_count": 3,
   "metadata": {},
   "outputs": [
    {
     "data": {
      "text/plain": [
       "0"
      ]
     },
     "execution_count": 3,
     "metadata": {},
     "output_type": "execute_result"
    }
   ],
   "source": [
    "#check number of dimensions\n",
    "scalar.ndim"
   ]
  },
  {
   "cell_type": "code",
   "execution_count": 4,
   "metadata": {},
   "outputs": [
    {
     "data": {
      "text/plain": [
       "<tf.Tensor: shape=(2,), dtype=int32, numpy=array([3, 3])>"
      ]
     },
     "execution_count": 4,
     "metadata": {},
     "output_type": "execute_result"
    }
   ],
   "source": [
    "#create a vector\n",
    "vector = tf.constant([3,3])\n",
    "vector "
   ]
  },
  {
   "cell_type": "code",
   "execution_count": 5,
   "metadata": {},
   "outputs": [
    {
     "data": {
      "text/plain": [
       "<tf.Tensor: shape=(2, 2), dtype=int32, numpy=\n",
       "array([[3, 3],\n",
       "       [3, 3]])>"
      ]
     },
     "execution_count": 5,
     "metadata": {},
     "output_type": "execute_result"
    }
   ],
   "source": [
    "#create a matrix \n",
    "matrix1 = tf.constant([[3,3],\n",
    "                      [3,3]])\n",
    "matrix1"
   ]
  },
  {
   "cell_type": "code",
   "execution_count": 6,
   "metadata": {},
   "outputs": [
    {
     "data": {
      "text/plain": [
       "<tf.Tensor: shape=(2, 2), dtype=float16, numpy=\n",
       "array([[3.3, 3.3],\n",
       "       [3.3, 3.3]], dtype=float16)>"
      ]
     },
     "execution_count": 6,
     "metadata": {},
     "output_type": "execute_result"
    }
   ],
   "source": [
    "#create matrix with dtype\n",
    "matrix2= tf.constant([[3.3,3.3],\n",
    "                      [3.3,3.3]], dtype=tf.float16)\n",
    "matrix2"
   ]
  },
  {
   "cell_type": "code",
   "execution_count": 7,
   "metadata": {},
   "outputs": [
    {
     "data": {
      "text/plain": [
       "<tf.Tensor: shape=(1, 3, 3), dtype=int32, numpy=\n",
       "array([[[3, 3, 3],\n",
       "        [3, 3, 3],\n",
       "        [3, 3, 3]]])>"
      ]
     },
     "execution_count": 7,
     "metadata": {},
     "output_type": "execute_result"
    }
   ],
   "source": [
    "#create 3x3 matrix\n",
    "matrix3=tf.constant([[[3,3,3],\n",
    "                      [3,3,3],\n",
    "                      [3,3,3]]])\n",
    "matrix3"
   ]
  },
  {
   "cell_type": "code",
   "execution_count": 8,
   "metadata": {},
   "outputs": [
    {
     "data": {
      "text/plain": [
       "<tf.Variable 'Variable:0' shape=(2,) dtype=int32, numpy=array([3, 3])>"
      ]
     },
     "execution_count": 8,
     "metadata": {},
     "output_type": "execute_result"
    }
   ],
   "source": [
    "#creating a tensor variable\n",
    "var=tf.Variable([3,3])\n",
    "const=tf.constant([3,3])\n",
    "var"
   ]
  },
  {
   "cell_type": "code",
   "execution_count": 9,
   "metadata": {},
   "outputs": [
    {
     "data": {
      "text/plain": [
       "(<tf.Tensor: shape=(3, 2), dtype=float32, numpy=\n",
       " array([[0.7493447 , 0.73561966],\n",
       "        [0.45230794, 0.49039817],\n",
       "        [0.1889317 , 0.52027524]], dtype=float32)>,\n",
       " <tf.Tensor: shape=(3, 2), dtype=float32, numpy=\n",
       " array([[0.7493447 , 0.73561966],\n",
       "        [0.45230794, 0.49039817],\n",
       "        [0.1889317 , 0.52027524]], dtype=float32)>,\n",
       " <tf.Tensor: shape=(3, 2), dtype=bool, numpy=\n",
       " array([[ True,  True],\n",
       "        [ True,  True],\n",
       "        [ True,  True]])>)"
      ]
     },
     "execution_count": 9,
     "metadata": {},
     "output_type": "execute_result"
    }
   ],
   "source": [
    "rand1 = tf.random.Generator.from_seed(42)\n",
    "rand1=rand1.uniform(shape=(3,2))\n",
    "rand2= tf.random.Generator.from_seed(42)\n",
    "rand2=rand2.uniform(shape=(3,2))\n",
    "rand1,rand2,rand1==rand2"
   ]
  },
  {
   "cell_type": "code",
   "execution_count": 10,
   "metadata": {},
   "outputs": [
    {
     "data": {
      "text/plain": [
       "<tf.Tensor: shape=(3, 2), dtype=int32, numpy=\n",
       "array([[3, 3],\n",
       "       [3, 4],\n",
       "       [3, 5]])>"
      ]
     },
     "execution_count": 10,
     "metadata": {},
     "output_type": "execute_result"
    }
   ],
   "source": [
    "not_shuffled = tf.constant([[3,3],\n",
    "                            [3,4],\n",
    "                            [3,5]])\n",
    "                            \n",
    "                            \n",
    "not_shuffled"
   ]
  },
  {
   "cell_type": "code",
   "execution_count": 11,
   "metadata": {},
   "outputs": [
    {
     "data": {
      "text/plain": [
       "<tf.Tensor: shape=(3, 2), dtype=int32, numpy=\n",
       "array([[3, 3],\n",
       "       [3, 4],\n",
       "       [3, 5]])>"
      ]
     },
     "execution_count": 11,
     "metadata": {},
     "output_type": "execute_result"
    }
   ],
   "source": [
    "tf.random.set_seed(30)\n",
    "tf.random.shuffle(not_shuffled, seed=20)\n",
    "not_shuffled"
   ]
  },
  {
   "cell_type": "code",
   "execution_count": 12,
   "metadata": {},
   "outputs": [
    {
     "data": {
      "text/plain": [
       "<tf.Tensor: shape=(3, 3), dtype=float32, numpy=\n",
       "array([[1., 1., 1.],\n",
       "       [1., 1., 1.],\n",
       "       [1., 1., 1.]], dtype=float32)>"
      ]
     },
     "execution_count": 12,
     "metadata": {},
     "output_type": "execute_result"
    }
   ],
   "source": [
    "tf.ones([3,3])"
   ]
  },
  {
   "cell_type": "code",
   "execution_count": 13,
   "metadata": {},
   "outputs": [
    {
     "data": {
      "text/plain": [
       "<tf.Tensor: shape=(3, 3), dtype=int32, numpy=\n",
       "array([[0, 0, 0],\n",
       "       [0, 0, 0],\n",
       "       [0, 0, 0]])>"
      ]
     },
     "execution_count": 13,
     "metadata": {},
     "output_type": "execute_result"
    }
   ],
   "source": [
    "tf.zeros([3,3], tf.int32)"
   ]
  },
  {
   "cell_type": "code",
   "execution_count": 14,
   "metadata": {},
   "outputs": [
    {
     "data": {
      "text/plain": [
       "<tf.Tensor: shape=(3, 3, 3), dtype=int32, numpy=\n",
       "array([[[ 1,  2,  3],\n",
       "        [ 4,  5,  6],\n",
       "        [ 7,  8,  9]],\n",
       "\n",
       "       [[10, 11, 12],\n",
       "        [13, 14, 15],\n",
       "        [16, 17, 18]],\n",
       "\n",
       "       [[19, 20, 21],\n",
       "        [22, 23, 24],\n",
       "        [25, 26, 27]]])>"
      ]
     },
     "execution_count": 14,
     "metadata": {},
     "output_type": "execute_result"
    }
   ],
   "source": [
    "import numpy as np\n",
    "n1=np.arange(1,28,dtype=np.int32)\n",
    "A=tf.constant(n1,shape=(3,3,3))\n",
    "A"
   ]
  },
  {
   "cell_type": "code",
   "execution_count": 15,
   "metadata": {},
   "outputs": [
    {
     "data": {
      "text/plain": [
       "<tf.Tensor: shape=(3, 3, 3, 3), dtype=float32, numpy=\n",
       "array([[[[0., 0., 0.],\n",
       "         [0., 0., 0.],\n",
       "         [0., 0., 0.]],\n",
       "\n",
       "        [[0., 0., 0.],\n",
       "         [0., 0., 0.],\n",
       "         [0., 0., 0.]],\n",
       "\n",
       "        [[0., 0., 0.],\n",
       "         [0., 0., 0.],\n",
       "         [0., 0., 0.]]],\n",
       "\n",
       "\n",
       "       [[[0., 0., 0.],\n",
       "         [0., 0., 0.],\n",
       "         [0., 0., 0.]],\n",
       "\n",
       "        [[0., 0., 0.],\n",
       "         [0., 0., 0.],\n",
       "         [0., 0., 0.]],\n",
       "\n",
       "        [[0., 0., 0.],\n",
       "         [0., 0., 0.],\n",
       "         [0., 0., 0.]]],\n",
       "\n",
       "\n",
       "       [[[0., 0., 0.],\n",
       "         [0., 0., 0.],\n",
       "         [0., 0., 0.]],\n",
       "\n",
       "        [[0., 0., 0.],\n",
       "         [0., 0., 0.],\n",
       "         [0., 0., 0.]],\n",
       "\n",
       "        [[0., 0., 0.],\n",
       "         [0., 0., 0.],\n",
       "         [0., 0., 0.]]]], dtype=float32)>"
      ]
     },
     "execution_count": 15,
     "metadata": {},
     "output_type": "execute_result"
    }
   ],
   "source": [
    "#creatibg a rank 4 tensor\n",
    "rank_4_t=tf.zeros(shape=[3,3,3,3])\n",
    "rank_4_t"
   ]
  },
  {
   "cell_type": "code",
   "execution_count": 16,
   "metadata": {},
   "outputs": [
    {
     "data": {
      "text/plain": [
       "81"
      ]
     },
     "execution_count": 16,
     "metadata": {},
     "output_type": "execute_result"
    }
   ],
   "source": [
    "tf.size(rank_4_t).numpy()"
   ]
  },
  {
   "cell_type": "code",
   "execution_count": 17,
   "metadata": {},
   "outputs": [
    {
     "data": {
      "text/plain": [
       "<tf.Tensor: shape=(2, 1, 3, 3), dtype=float32, numpy=\n",
       "array([[[[0., 0., 0.],\n",
       "         [0., 0., 0.],\n",
       "         [0., 0., 0.]]],\n",
       "\n",
       "\n",
       "       [[[0., 0., 0.],\n",
       "         [0., 0., 0.],\n",
       "         [0., 0., 0.]]]], dtype=float32)>"
      ]
     },
     "execution_count": 17,
     "metadata": {},
     "output_type": "execute_result"
    }
   ],
   "source": [
    "#getting first two elements of tensor\n",
    "rank_4_t[:2,:1]"
   ]
  },
  {
   "cell_type": "code",
   "execution_count": 18,
   "metadata": {},
   "outputs": [
    {
     "data": {
      "text/plain": [
       "<tf.Tensor: shape=(1, 1, 1, 3), dtype=float32, numpy=array([[[[0., 0., 0.]]]], dtype=float32)>"
      ]
     },
     "execution_count": 18,
     "metadata": {},
     "output_type": "execute_result"
    }
   ],
   "source": [
    "#get first element from each dimension \n",
    "rank_4_t[:1,:1,:1]"
   ]
  },
  {
   "cell_type": "code",
   "execution_count": 19,
   "metadata": {},
   "outputs": [
    {
     "data": {
      "text/plain": [
       "<tf.Tensor: shape=(2, 2), dtype=int32, numpy=\n",
       "array([[3, 1],\n",
       "       [3, 2]])>"
      ]
     },
     "execution_count": 19,
     "metadata": {},
     "output_type": "execute_result"
    }
   ],
   "source": [
    "rank_2_t=tf.constant([[3,1],\n",
    "                      [3,2]])\n",
    "rank_2_t"
   ]
  },
  {
   "cell_type": "code",
   "execution_count": 20,
   "metadata": {},
   "outputs": [
    {
     "data": {
      "text/plain": [
       "(TensorShape([2, 2]), 2)"
      ]
     },
     "execution_count": 20,
     "metadata": {},
     "output_type": "execute_result"
    }
   ],
   "source": [
    "rank_2_t.shape, rank_2_t.ndim"
   ]
  },
  {
   "cell_type": "code",
   "execution_count": 21,
   "metadata": {},
   "outputs": [
    {
     "data": {
      "text/plain": [
       "<tf.Tensor: shape=(2, 2, 1), dtype=int32, numpy=\n",
       "array([[[3],\n",
       "        [1]],\n",
       "\n",
       "       [[3],\n",
       "        [2]]])>"
      ]
     },
     "execution_count": 21,
     "metadata": {},
     "output_type": "execute_result"
    }
   ],
   "source": [
    "rank_3_t=rank_2_t[...,tf.newaxis]\n",
    "rank_3_t"
   ]
  },
  {
   "cell_type": "code",
   "execution_count": 22,
   "metadata": {},
   "outputs": [
    {
     "data": {
      "text/plain": [
       "<tf.Tensor: shape=(2, 2, 1), dtype=int32, numpy=\n",
       "array([[[3],\n",
       "        [1]],\n",
       "\n",
       "       [[3],\n",
       "        [2]]])>"
      ]
     },
     "execution_count": 22,
     "metadata": {},
     "output_type": "execute_result"
    }
   ],
   "source": [
    "tf.expand_dims(rank_2_t,axis=2)"
   ]
  },
  {
   "cell_type": "code",
   "execution_count": 23,
   "metadata": {},
   "outputs": [
    {
     "data": {
      "text/plain": [
       "(<tf.Tensor: shape=(2, 2), dtype=int32, numpy=\n",
       " array([[13, 13],\n",
       "        [13, 13]])>,\n",
       " <tf.Tensor: shape=(2, 2), dtype=int32, numpy=\n",
       " array([[-7, -7],\n",
       "        [-7, -7]])>,\n",
       " <tf.Tensor: shape=(2, 2), dtype=int32, numpy=\n",
       " array([[30, 30],\n",
       "        [30, 30]])>,\n",
       " <tf.Tensor: shape=(2, 2), dtype=float64, numpy=\n",
       " array([[1., 1.],\n",
       "        [1., 1.]])>)"
      ]
     },
     "execution_count": 23,
     "metadata": {},
     "output_type": "execute_result"
    }
   ],
   "source": [
    "#manipulating tensors\n",
    "t2=tf.constant([[3,3],[3,3]])\n",
    "t2+10,t2-10,t2*10,t2/3"
   ]
  },
  {
   "cell_type": "code",
   "execution_count": 24,
   "metadata": {},
   "outputs": [
    {
     "data": {
      "text/plain": [
       "<tf.Tensor: shape=(2, 2), dtype=int32, numpy=\n",
       "array([[3, 3],\n",
       "       [3, 3]])>"
      ]
     },
     "execution_count": 24,
     "metadata": {},
     "output_type": "execute_result"
    }
   ],
   "source": [
    "t2"
   ]
  },
  {
   "cell_type": "code",
   "execution_count": 25,
   "metadata": {},
   "outputs": [
    {
     "data": {
      "text/plain": [
       "(<tf.Tensor: shape=(2, 2), dtype=int32, numpy=\n",
       " array([[18, 18],\n",
       "        [18, 18]])>,\n",
       " <tf.Tensor: shape=(2, 2), dtype=int32, numpy=\n",
       " array([[18, 18],\n",
       "        [18, 18]])>)"
      ]
     },
     "execution_count": 25,
     "metadata": {},
     "output_type": "execute_result"
    }
   ],
   "source": [
    "#matrix multiplication\n",
    "t1=tf.constant([[3,3],[3,3]])\n",
    "tf.linalg.matmul(t1,t2), t1@t2\n",
    " "
   ]
  },
  {
   "cell_type": "code",
   "execution_count": 26,
   "metadata": {},
   "outputs": [
    {
     "data": {
      "text/plain": [
       "(<tf.Tensor: shape=(3, 2), dtype=float32, numpy=\n",
       " array([[0.6661966 , 0.7469058 ],\n",
       "        [0.8769325 , 0.8477416 ],\n",
       "        [0.22709787, 0.49256873]], dtype=float32)>,\n",
       " <tf.Tensor: shape=(3, 2), dtype=float32, numpy=\n",
       " array([[-0.83051693,  1.543791  ],\n",
       "        [-0.5432179 ,  0.36891136],\n",
       "        [ 1.6245334 , -0.9666689 ]], dtype=float32)>)"
      ]
     },
     "execution_count": 26,
     "metadata": {},
     "output_type": "execute_result"
    }
   ],
   "source": [
    "t3=tf.random.Generator.from_seed(100)\n",
    "t3=t3.uniform(shape=(3,2))\n",
    "t4=tf.random.Generator.from_seed(200)\n",
    "t4=t4.normal(shape=(3,2))\n",
    "t3,t4"
   ]
  },
  {
   "cell_type": "code",
   "execution_count": 27,
   "metadata": {},
   "outputs": [
    {
     "data": {
      "text/plain": [
       "<tf.Tensor: shape=(2, 3), dtype=float32, numpy=\n",
       "array([[-0.83051693,  1.543791  , -0.5432179 ],\n",
       "       [ 0.36891136,  1.6245334 , -0.9666689 ]], dtype=float32)>"
      ]
     },
     "execution_count": 27,
     "metadata": {},
     "output_type": "execute_result"
    }
   ],
   "source": [
    "t4=tf.reshape(t4,shape=(2,3))\n",
    "t4"
   ]
  },
  {
   "cell_type": "code",
   "execution_count": 28,
   "metadata": {},
   "outputs": [
    {
     "data": {
      "text/plain": [
       "<tf.Tensor: shape=(3, 3), dtype=float32, numpy=\n",
       "array([[-0.27774554,  2.2418418 , -1.0839005 ],\n",
       "       [-0.4155658 ,  2.7309852 , -1.2958509 ],\n",
       "       [-0.00689444,  1.150786  , -0.5995145 ]], dtype=float32)>"
      ]
     },
     "execution_count": 28,
     "metadata": {},
     "output_type": "execute_result"
    }
   ],
   "source": [
    "t3@t4"
   ]
  },
  {
   "cell_type": "code",
   "execution_count": 29,
   "metadata": {},
   "outputs": [
    {
     "data": {
      "text/plain": [
       "<tf.Tensor: shape=(3, 2), dtype=float32, numpy=\n",
       "array([[0.00473952, 0.06306279],\n",
       "       [0.91214204, 0.46108627],\n",
       "       [0.17251897, 0.9006287 ]], dtype=float32)>"
      ]
     },
     "execution_count": 29,
     "metadata": {},
     "output_type": "execute_result"
    }
   ],
   "source": [
    "t5=tf.random.Generator.from_seed(300)\n",
    "t5=t5.uniform(shape=(3,2))\n",
    "t5"
   ]
  },
  {
   "cell_type": "code",
   "execution_count": 30,
   "metadata": {},
   "outputs": [
    {
     "data": {
      "text/plain": [
       "<tf.Tensor: shape=(2, 3), dtype=float32, numpy=\n",
       "array([[0.00473952, 0.91214204, 0.17251897],\n",
       "       [0.06306279, 0.46108627, 0.9006287 ]], dtype=float32)>"
      ]
     },
     "execution_count": 30,
     "metadata": {},
     "output_type": "execute_result"
    }
   ],
   "source": [
    "t5=tf.transpose(t5)\n",
    "t5"
   ]
  },
  {
   "cell_type": "code",
   "execution_count": 31,
   "metadata": {},
   "outputs": [
    {
     "data": {
      "text/plain": [
       "<tf.Tensor: shape=(3, 3), dtype=float32, numpy=\n",
       "array([[0.05025942, 0.9520539 , 0.7876163 ],\n",
       "       [0.05761719, 1.190769  , 0.9147879 ],\n",
       "       [0.03213909, 0.4342622 , 0.48280022]], dtype=float32)>"
      ]
     },
     "execution_count": 31,
     "metadata": {},
     "output_type": "execute_result"
    }
   ],
   "source": [
    "t3@t5"
   ]
  },
  {
   "cell_type": "markdown",
   "metadata": {},
   "source": []
  },
  {
   "cell_type": "code",
   "execution_count": 32,
   "metadata": {},
   "outputs": [
    {
     "ename": "InvalidArgumentError",
     "evalue": "Matrix size-incompatible: In[0]: [3,2], In[1]: [3,2] [Op:MatMul]",
     "output_type": "error",
     "traceback": [
      "\u001b[1;31m---------------------------------------------------------------------------\u001b[0m",
      "\u001b[1;31mInvalidArgumentError\u001b[0m                      Traceback (most recent call last)",
      "\u001b[1;32md:\\Skills\\Repos\\Deep Learning\\TensorFlow\\fundamentals.ipynb Cell 33\u001b[0m in \u001b[0;36m1\n\u001b[1;32m----> <a href='vscode-notebook-cell:/d%3A/Skills/Repos/Deep%20Learning/TensorFlow/fundamentals.ipynb#X44sZmlsZQ%3D%3D?line=0'>1</a>\u001b[0m tf\u001b[39m.\u001b[39;49mmatmul(t3, tf\u001b[39m.\u001b[39;49mtranspose(t4))\n",
      "File \u001b[1;32md:\\Frameworks\\Python\\lib\\site-packages\\tensorflow\\python\\util\\traceback_utils.py:153\u001b[0m, in \u001b[0;36mfilter_traceback.<locals>.error_handler\u001b[1;34m(*args, **kwargs)\u001b[0m\n\u001b[0;32m    151\u001b[0m \u001b[39mexcept\u001b[39;00m \u001b[39mException\u001b[39;00m \u001b[39mas\u001b[39;00m e:\n\u001b[0;32m    152\u001b[0m   filtered_tb \u001b[39m=\u001b[39m _process_traceback_frames(e\u001b[39m.\u001b[39m__traceback__)\n\u001b[1;32m--> 153\u001b[0m   \u001b[39mraise\u001b[39;00m e\u001b[39m.\u001b[39mwith_traceback(filtered_tb) \u001b[39mfrom\u001b[39;00m \u001b[39mNone\u001b[39m\n\u001b[0;32m    154\u001b[0m \u001b[39mfinally\u001b[39;00m:\n\u001b[0;32m    155\u001b[0m   \u001b[39mdel\u001b[39;00m filtered_tb\n",
      "File \u001b[1;32md:\\Frameworks\\Python\\lib\\site-packages\\tensorflow\\python\\framework\\ops.py:7164\u001b[0m, in \u001b[0;36mraise_from_not_ok_status\u001b[1;34m(e, name)\u001b[0m\n\u001b[0;32m   7162\u001b[0m \u001b[39mdef\u001b[39;00m \u001b[39mraise_from_not_ok_status\u001b[39m(e, name):\n\u001b[0;32m   7163\u001b[0m   e\u001b[39m.\u001b[39mmessage \u001b[39m+\u001b[39m\u001b[39m=\u001b[39m (\u001b[39m\"\u001b[39m\u001b[39m name: \u001b[39m\u001b[39m\"\u001b[39m \u001b[39m+\u001b[39m name \u001b[39mif\u001b[39;00m name \u001b[39mis\u001b[39;00m \u001b[39mnot\u001b[39;00m \u001b[39mNone\u001b[39;00m \u001b[39melse\u001b[39;00m \u001b[39m\"\u001b[39m\u001b[39m\"\u001b[39m)\n\u001b[1;32m-> 7164\u001b[0m   \u001b[39mraise\u001b[39;00m core\u001b[39m.\u001b[39m_status_to_exception(e) \u001b[39mfrom\u001b[39;00m \u001b[39mNone\u001b[39m\n",
      "\u001b[1;31mInvalidArgumentError\u001b[0m: Matrix size-incompatible: In[0]: [3,2], In[1]: [3,2] [Op:MatMul]"
     ]
    }
   ],
   "source": [
    "tf.matmul(t3, tf.transpose(t4))"
   ]
  },
  {
   "cell_type": "code",
   "execution_count": null,
   "metadata": {},
   "outputs": [
    {
     "data": {
      "text/plain": [
       "<tf.Tensor: shape=(2,), dtype=float32, numpy=array([3.3, 3.3], dtype=float32)>"
      ]
     },
     "execution_count": 32,
     "metadata": {},
     "output_type": "execute_result"
    }
   ],
   "source": [
    "t6 = tf.constant([3.3,3.3])\n",
    "t6"
   ]
  },
  {
   "cell_type": "code",
   "execution_count": null,
   "metadata": {},
   "outputs": [
    {
     "data": {
      "text/plain": [
       "<tf.Tensor: shape=(2,), dtype=float16, numpy=array([3.3, 3.3], dtype=float16)>"
      ]
     },
     "execution_count": 33,
     "metadata": {},
     "output_type": "execute_result"
    }
   ],
   "source": [
    "t6=tf.cast(t6, dtype= tf.float16)\n",
    "t6"
   ]
  },
  {
   "cell_type": "code",
   "execution_count": null,
   "metadata": {},
   "outputs": [
    {
     "data": {
      "text/plain": [
       "<tf.Tensor: shape=(2,), dtype=int32, numpy=array([3, 3])>"
      ]
     },
     "execution_count": 34,
     "metadata": {},
     "output_type": "execute_result"
    }
   ],
   "source": [
    "t7 = tf.constant([3,3])\n",
    "t7"
   ]
  },
  {
   "cell_type": "code",
   "execution_count": null,
   "metadata": {},
   "outputs": [
    {
     "data": {
      "text/plain": [
       "<tf.Tensor: shape=(2,), dtype=float16, numpy=array([3., 3.], dtype=float16)>"
      ]
     },
     "execution_count": 38,
     "metadata": {},
     "output_type": "execute_result"
    }
   ],
   "source": [
    "t7 = tf.cast(t7, dtype=tf.float16)\n",
    "t7"
   ]
  },
  {
   "cell_type": "code",
   "execution_count": null,
   "metadata": {},
   "outputs": [
    {
     "data": {
      "text/plain": [
       "(<tf.Tensor: shape=(2,), dtype=int32, numpy=array([-3, -3])>,\n",
       " <tf.Tensor: shape=(2,), dtype=int32, numpy=array([3, 3])>)"
      ]
     },
     "execution_count": 40,
     "metadata": {},
     "output_type": "execute_result"
    }
   ],
   "source": [
    "#getting the absolute values\n",
    "t8 = tf.constant([-3,-3])\n",
    "t8, tf.abs(t8)"
   ]
  },
  {
   "cell_type": "code",
   "execution_count": null,
   "metadata": {},
   "outputs": [
    {
     "data": {
      "text/plain": [
       "(<tf.Tensor: shape=(50,), dtype=int32, numpy=\n",
       " array([14, 16, 88, 75, 66, 77,  1, 33, 49, 19, 21, 60, 87, 72, 77, 67, 76,\n",
       "        95, 90, 65,  9,  8,  9, 23, 97, 37, 97, 51, 53, 73, 58,  1, 12, 70,\n",
       "        76, 97, 77, 64, 43, 27, 46, 14, 91, 74, 96, 50, 10, 93, 59, 18])>,\n",
       " <tf.Tensor: shape=(), dtype=int32, numpy=1>)"
      ]
     },
     "execution_count": 41,
     "metadata": {},
     "output_type": "execute_result"
    }
   ],
   "source": [
    "#minimum of tensor\n",
    "t9 = tf.constant(np.random.randint(0,100, size = 50))\n",
    "t9, tf.reduce_min(t9)\n"
   ]
  },
  {
   "cell_type": "code",
   "execution_count": null,
   "metadata": {},
   "outputs": [
    {
     "data": {
      "text/plain": [
       "(<tf.Tensor: shape=(100,), dtype=int32, numpy=\n",
       " array([ 35, 219,  87,  57, 113, 286, 263,  49, 210, 169, 161, 232,  71,\n",
       "         76,  91, 244,   8,  57, 294, 251, 209, 292,  80,  25,  83, 281,\n",
       "         92, 267, 164,  25, 176,  86, 133,  26, 105, 246,  54, 186, 168,\n",
       "         56, 285, 272, 196, 123,  77, 118, 195,   5, 279, 266,  82,  23,\n",
       "        212, 205,  34, 226, 152,  54,  99, 202,  48, 109, 204, 275,  88,\n",
       "        243, 134, 136,  34, 170,  33,  43,  21,  97,  81, 267, 219, 269,\n",
       "        265,  29, 285, 203, 104, 186, 233,  15,  51,   6, 264, 186, 200,\n",
       "        187, 212, 236, 261, 153, 223,  30, 275, 113])>,\n",
       " <tf.Tensor: shape=(), dtype=int32, numpy=294>)"
      ]
     },
     "execution_count": 43,
     "metadata": {},
     "output_type": "execute_result"
    }
   ],
   "source": [
    "#maximum of tensor\n",
    "t10 = tf.constant(np.random.randint(0,300,size=100))\n",
    "t10, tf.reduce_max(t10)"
   ]
  },
  {
   "cell_type": "code",
   "execution_count": null,
   "metadata": {},
   "outputs": [
    {
     "data": {
      "text/plain": [
       "<tf.Tensor: shape=(), dtype=int32, numpy=15020>"
      ]
     },
     "execution_count": 46,
     "metadata": {},
     "output_type": "execute_result"
    }
   ],
   "source": [
    "#sum of tensor\n",
    "tf.reduce_sum(t10)"
   ]
  },
  {
   "cell_type": "code",
   "execution_count": null,
   "metadata": {},
   "outputs": [
    {
     "data": {
      "text/plain": [
       "<tf.Tensor: shape=(), dtype=float32, numpy=8007.06>"
      ]
     },
     "execution_count": 55,
     "metadata": {},
     "output_type": "execute_result"
    }
   ],
   "source": [
    "#variance of tensor\n",
    "tf.math.reduce_variance(tf.cast(t10, dtype=tf.float32))"
   ]
  },
  {
   "cell_type": "code",
   "execution_count": null,
   "metadata": {},
   "outputs": [
    {
     "data": {
      "text/plain": [
       "<tf.Tensor: shape=(), dtype=float32, numpy=89.48218>"
      ]
     },
     "execution_count": 50,
     "metadata": {},
     "output_type": "execute_result"
    }
   ],
   "source": [
    "#standard deviation of tensor\n",
    "tf.math.reduce_std(tf.cast(t10, dtype=tf.float32))"
   ]
  },
  {
   "cell_type": "code",
   "execution_count": null,
   "metadata": {},
   "outputs": [
    {
     "data": {
      "text/plain": [
       "(<tf.Tensor: shape=(30,), dtype=float32, numpy=\n",
       " array([0.33143902, 0.21867776, 0.0160141 , 0.2876439 , 0.79751086,\n",
       "        0.21710753, 0.6433041 , 0.36862898, 0.50054467, 0.71634173,\n",
       "        0.42660952, 0.53803957, 0.22099257, 0.81026185, 0.57730436,\n",
       "        0.85869336, 0.3830887 , 0.10151541, 0.40971458, 0.53684866,\n",
       "        0.675125  , 0.8787942 , 0.2530595 , 0.5888306 , 0.8912947 ,\n",
       "        0.8457856 , 0.3994583 , 0.24162519, 0.581491  , 0.74078023],\n",
       "       dtype=float32)>,\n",
       " <tf.Tensor: shape=(), dtype=float32, numpy=0.8912947>,\n",
       " <tf.Tensor: shape=(), dtype=int64, numpy=24>)"
      ]
     },
     "execution_count": 59,
     "metadata": {},
     "output_type": "execute_result"
    }
   ],
   "source": [
    "#positional maximum\n",
    "tf.random.set_seed(33)\n",
    "t11= tf.random.uniform(shape=[30])\n",
    "t11, tf.reduce_max(t11), tf.argmax(t11)"
   ]
  },
  {
   "cell_type": "code",
   "execution_count": null,
   "metadata": {},
   "outputs": [
    {
     "data": {
      "text/plain": [
       "(<tf.Tensor: shape=(20,), dtype=float32, numpy=\n",
       " array([-0.6311421 ,  0.13089854,  1.5443249 , -0.9973555 , -0.4522463 ,\n",
       "         0.4891347 ,  0.29329988, -0.876649  ,  1.6094923 , -0.37898073,\n",
       "         0.11001632, -1.9552854 ,  1.1763349 ,  0.024898  ,  0.05793991,\n",
       "         1.0011885 , -0.25256434,  0.44457674,  0.56527317,  1.1908352 ],\n",
       "       dtype=float32)>,\n",
       " <tf.Tensor: shape=(), dtype=float32, numpy=-1.9552854>,\n",
       " <tf.Tensor: shape=(), dtype=int64, numpy=11>)"
      ]
     },
     "execution_count": 63,
     "metadata": {},
     "output_type": "execute_result"
    }
   ],
   "source": [
    "t12=tf.random.normal(shape=[20])\n",
    "t12, tf.reduce_min(t12), tf.argmin(t12)"
   ]
  },
  {
   "cell_type": "code",
   "execution_count": 67,
   "metadata": {},
   "outputs": [
    {
     "data": {
      "text/plain": [
       "(<tf.Tensor: shape=(1, 1, 1, 1, 50), dtype=float32, numpy=\n",
       " array([[[[[0.11282897, 0.6076474 , 0.22263086, 0.34785545, 0.44322586,\n",
       "            0.14974618, 0.15332222, 0.06837976, 0.42526126, 0.31326127,\n",
       "            0.9021281 , 0.868147  , 0.8280438 , 0.5863085 , 0.8233335 ,\n",
       "            0.26141036, 0.65921247, 0.9036591 , 0.0727607 , 0.49216378,\n",
       "            0.9862461 , 0.50934017, 0.62700677, 0.9761859 , 0.61517644,\n",
       "            0.6157739 , 0.24330997, 0.4313482 , 0.9485599 , 0.05677974,\n",
       "            0.2609104 , 0.32276535, 0.5326617 , 0.29703486, 0.03984427,\n",
       "            0.87294257, 0.6667284 , 0.2321918 , 0.34995997, 0.33859074,\n",
       "            0.24336147, 0.06988668, 0.2758572 , 0.69293535, 0.6384758 ,\n",
       "            0.9650717 , 0.5114281 , 0.6643033 , 0.5481446 , 0.5101727 ]]]]],\n",
       "       dtype=float32)>,\n",
       " <tf.Tensor: shape=(50,), dtype=float32, numpy=\n",
       " array([0.11282897, 0.6076474 , 0.22263086, 0.34785545, 0.44322586,\n",
       "        0.14974618, 0.15332222, 0.06837976, 0.42526126, 0.31326127,\n",
       "        0.9021281 , 0.868147  , 0.8280438 , 0.5863085 , 0.8233335 ,\n",
       "        0.26141036, 0.65921247, 0.9036591 , 0.0727607 , 0.49216378,\n",
       "        0.9862461 , 0.50934017, 0.62700677, 0.9761859 , 0.61517644,\n",
       "        0.6157739 , 0.24330997, 0.4313482 , 0.9485599 , 0.05677974,\n",
       "        0.2609104 , 0.32276535, 0.5326617 , 0.29703486, 0.03984427,\n",
       "        0.87294257, 0.6667284 , 0.2321918 , 0.34995997, 0.33859074,\n",
       "        0.24336147, 0.06988668, 0.2758572 , 0.69293535, 0.6384758 ,\n",
       "        0.9650717 , 0.5114281 , 0.6643033 , 0.5481446 , 0.5101727 ],\n",
       "       dtype=float32)>)"
      ]
     },
     "execution_count": 67,
     "metadata": {},
     "output_type": "execute_result"
    }
   ],
   "source": [
    "t13 = tf.constant(tf.random.uniform(shape=[50]), shape = (1,1,1,1,50))\n",
    "t13, tf.squeeze(t13)"
   ]
  },
  {
   "cell_type": "code",
   "execution_count": 33,
   "metadata": {},
   "outputs": [
    {
     "data": {
      "text/plain": [
       "<tf.Tensor: shape=(4, 4), dtype=float32, numpy=\n",
       "array([[0., 1., 0., 0.],\n",
       "       [0., 0., 1., 0.],\n",
       "       [0., 0., 0., 1.],\n",
       "       [0., 0., 0., 0.]], dtype=float32)>"
      ]
     },
     "execution_count": 33,
     "metadata": {},
     "output_type": "execute_result"
    }
   ],
   "source": [
    "#one hot encoding\n",
    "list = [1,2,3,4]\n",
    "tf.one_hot(list, depth=4)\n"
   ]
  },
  {
   "cell_type": "code",
   "execution_count": 34,
   "metadata": {},
   "outputs": [
    {
     "data": {
      "text/plain": [
       "<tf.Tensor: shape=(4, 4), dtype=string, numpy=\n",
       "array([[b'F', b'T', b'F', b'F'],\n",
       "       [b'F', b'F', b'T', b'F'],\n",
       "       [b'F', b'F', b'F', b'T'],\n",
       "       [b'F', b'F', b'F', b'F']], dtype=object)>"
      ]
     },
     "execution_count": 34,
     "metadata": {},
     "output_type": "execute_result"
    }
   ],
   "source": [
    "tf.one_hot(list, depth=4, on_value=\"T\", off_value=\"F\")"
   ]
  },
  {
   "cell_type": "code",
   "execution_count": 35,
   "metadata": {},
   "outputs": [
    {
     "data": {
      "text/plain": [
       "(<tf.Tensor: shape=(10,), dtype=int32, numpy=array([0, 1, 2, 3, 4, 5, 6, 7, 8, 9])>,\n",
       " <tf.Tensor: shape=(10,), dtype=int32, numpy=array([ 0,  1,  4,  9, 16, 25, 36, 49, 64, 81])>)"
      ]
     },
     "execution_count": 35,
     "metadata": {},
     "output_type": "execute_result"
    }
   ],
   "source": [
    "#squaring\n",
    "t14=tf.range(0,10)\n",
    "t14, tf.square(t14)"
   ]
  },
  {
   "cell_type": "code",
   "execution_count": 36,
   "metadata": {},
   "outputs": [
    {
     "data": {
      "text/plain": [
       "<tf.Tensor: shape=(10,), dtype=float32, numpy=\n",
       "array([0.       , 1.       , 1.4142135, 1.7320508, 2.       , 2.236068 ,\n",
       "       2.4494898, 2.6457512, 2.828427 , 3.       ], dtype=float32)>"
      ]
     },
     "execution_count": 36,
     "metadata": {},
     "output_type": "execute_result"
    }
   ],
   "source": [
    "#square rooting\n",
    "tf.math.sqrt(tf.cast(t14, dtype=tf.float32))"
   ]
  },
  {
   "cell_type": "code",
   "execution_count": 38,
   "metadata": {},
   "outputs": [
    {
     "data": {
      "text/plain": [
       "<tf.Tensor: shape=(10,), dtype=float32, numpy=\n",
       "array([     -inf, 0.       , 0.6931472, 1.0986123, 1.3862944, 1.609438 ,\n",
       "       1.7917595, 1.9459102, 2.0794415, 2.1972246], dtype=float32)>"
      ]
     },
     "execution_count": 38,
     "metadata": {},
     "output_type": "execute_result"
    }
   ],
   "source": [
    "#log\n",
    "tf.math.log(tf.cast(t14, dtype=tf.float32))"
   ]
  },
  {
   "cell_type": "code",
   "execution_count": 39,
   "metadata": {},
   "outputs": [
    {
     "ename": "AttributeError",
     "evalue": "module 'tensorflow._api.v2.math' has no attribute 'antilog'",
     "output_type": "error",
     "traceback": [
      "\u001b[1;31m---------------------------------------------------------------------------\u001b[0m",
      "\u001b[1;31mAttributeError\u001b[0m                            Traceback (most recent call last)",
      "\u001b[1;32md:\\Skills\\Repos\\Deep Learning\\TensorFlow\\fundamentals.ipynb Cell 52\u001b[0m in \u001b[0;36m2\n\u001b[0;32m      <a href='vscode-notebook-cell:/d%3A/Skills/Repos/Deep%20Learning/TensorFlow/fundamentals.ipynb#Y102sZmlsZQ%3D%3D?line=0'>1</a>\u001b[0m \u001b[39m#antilog\u001b[39;00m\n\u001b[1;32m----> <a href='vscode-notebook-cell:/d%3A/Skills/Repos/Deep%20Learning/TensorFlow/fundamentals.ipynb#Y102sZmlsZQ%3D%3D?line=1'>2</a>\u001b[0m tf\u001b[39m.\u001b[39;49mmath\u001b[39m.\u001b[39;49mantilog(tf\u001b[39m.\u001b[39mcast(t14, dtype\u001b[39m=\u001b[39mtf\u001b[39m.\u001b[39mfloat32))\n",
      "\u001b[1;31mAttributeError\u001b[0m: module 'tensorflow._api.v2.math' has no attribute 'antilog'"
     ]
    }
   ],
   "source": [
    "#antilog\n",
    "tf.math.antilog(tf.cast(t14, dtype=tf.float32))"
   ]
  },
  {
   "cell_type": "code",
   "execution_count": 43,
   "metadata": {},
   "outputs": [
    {
     "data": {
      "text/plain": [
       "(array([1, 2, 3]), numpy.ndarray)"
      ]
     },
     "execution_count": 43,
     "metadata": {},
     "output_type": "execute_result"
    }
   ],
   "source": [
    "#numpy and tensorflow\n",
    "tf15=tf.constant(np.array([1,2,3]))\n",
    "np.array(tf15), type(np.array(tf15))"
   ]
  },
  {
   "cell_type": "code",
   "execution_count": 46,
   "metadata": {},
   "outputs": [
    {
     "data": {
      "text/plain": [
       "(tf.float64, tf.int32)"
      ]
     },
     "execution_count": 46,
     "metadata": {},
     "output_type": "execute_result"
    }
   ],
   "source": [
    "t16=tf.constant(np.array([3.3,6,9]))\n",
    "t17=tf.constant([3,6,9])\n",
    "t16.dtype, t17.dtype"
   ]
  },
  {
   "cell_type": "code",
   "execution_count": 47,
   "metadata": {},
   "outputs": [
    {
     "data": {
      "text/plain": [
       "[PhysicalDevice(name='/physical_device:CPU:0', device_type='CPU')]"
      ]
     },
     "execution_count": 47,
     "metadata": {},
     "output_type": "execute_result"
    }
   ],
   "source": [
    "#checking device\n",
    "tf.config.list_physical_devices()"
   ]
  },
  {
   "cell_type": "code",
   "execution_count": 54,
   "metadata": {},
   "outputs": [
    {
     "data": {
      "text/plain": [
       "(0, TensorShape([]), tf.int32, <tf.Tensor: shape=(), dtype=int32, numpy=1>)"
      ]
     },
     "execution_count": 54,
     "metadata": {},
     "output_type": "execute_result"
    }
   ],
   "source": [
    "#exercises\n",
    "t18 = tf.constant(3)\n",
    "t18.ndim, t18.shape, t18.dtype, tf.size(t18)"
   ]
  },
  {
   "cell_type": "code",
   "execution_count": 56,
   "metadata": {},
   "outputs": [
    {
     "data": {
      "text/plain": [
       "(1, tf.int32, TensorShape([2]), <tf.Tensor: shape=(), dtype=int32, numpy=2>)"
      ]
     },
     "execution_count": 56,
     "metadata": {},
     "output_type": "execute_result"
    }
   ],
   "source": [
    "t19 = tf.constant([3,3])\n",
    "t19.ndim, t19.dtype, t19.shape, tf.size(t19)"
   ]
  },
  {
   "cell_type": "code",
   "execution_count": 59,
   "metadata": {},
   "outputs": [
    {
     "data": {
      "text/plain": [
       "(2, tf.int32, TensorShape([2, 2]), <tf.Tensor: shape=(), dtype=int32, numpy=4>)"
      ]
     },
     "execution_count": 59,
     "metadata": {},
     "output_type": "execute_result"
    }
   ],
   "source": [
    "t20 = tf.constant([[3,3],[3,3]])\n",
    "t20.ndim, t20.dtype, t20.shape, tf.size(t20)"
   ]
  },
  {
   "cell_type": "code",
   "execution_count": 63,
   "metadata": {},
   "outputs": [
    {
     "data": {
      "text/plain": [
       "(3,\n",
       " tf.int32,\n",
       " TensorShape([2, 2, 2]),\n",
       " <tf.Tensor: shape=(), dtype=int32, numpy=8>)"
      ]
     },
     "execution_count": 63,
     "metadata": {},
     "output_type": "execute_result"
    }
   ],
   "source": [
    "t21 = tf.constant([[[3,3],[3,3]],[[3,3],[3,3]]])\n",
    "t21.ndim, t21.dtype, t21.shape, tf.size(t21)"
   ]
  },
  {
   "cell_type": "code",
   "execution_count": 82,
   "metadata": {},
   "outputs": [],
   "source": [
    "t22 = tf.random.Generator.from_seed(10)\n",
    "t22=t22.uniform(shape=[5,300])"
   ]
  },
  {
   "cell_type": "code",
   "execution_count": 81,
   "metadata": {},
   "outputs": [],
   "source": [
    "t23 = tf.random.Generator.from_seed(20)\n",
    "t23=t23.uniform(shape=[5,300])"
   ]
  },
  {
   "cell_type": "code",
   "execution_count": 83,
   "metadata": {},
   "outputs": [
    {
     "data": {
      "text/plain": [
       "<tf.Tensor: shape=(300, 300), dtype=float32, numpy=\n",
       "array([[0.324576  , 0.60533017, 0.7899078 , ..., 0.6130224 , 0.833275  ,\n",
       "        0.32714966],\n",
       "       [0.5539023 , 0.77809733, 1.0149032 , ..., 0.5380521 , 1.0826046 ,\n",
       "        0.7225168 ],\n",
       "       [0.735603  , 0.61407447, 0.8310063 , ..., 0.7498543 , 1.2336272 ,\n",
       "        0.8277302 ],\n",
       "       ...,\n",
       "       [1.1576127 , 1.4830979 , 1.4080607 , ..., 1.1800604 , 1.5160335 ,\n",
       "        1.07214   ],\n",
       "       [0.67203915, 0.98831743, 0.8486444 , ..., 0.5170104 , 0.586753  ,\n",
       "        0.62804055],\n",
       "       [0.59919417, 0.6023962 , 0.6523763 , ..., 0.39539665, 0.83830345,\n",
       "        0.7118022 ]], dtype=float32)>"
      ]
     },
     "execution_count": 83,
     "metadata": {},
     "output_type": "execute_result"
    }
   ],
   "source": [
    "tf.matmul(t22, t23, transpose_a=True)"
   ]
  },
  {
   "cell_type": "code",
   "execution_count": 86,
   "metadata": {},
   "outputs": [
    {
     "data": {
      "text/plain": [
       "<tf.Tensor: shape=(5, 5), dtype=float32, numpy=\n",
       "array([[72.348465, 75.50053 , 69.22717 , 75.14432 , 72.26243 ],\n",
       "       [76.093285, 79.51416 , 74.59768 , 77.46012 , 75.1679  ],\n",
       "       [71.64567 , 75.76221 , 72.32199 , 74.94431 , 73.525116],\n",
       "       [70.39602 , 73.881   , 72.15695 , 72.372116, 71.00586 ],\n",
       "       [72.72349 , 77.49847 , 72.379745, 74.86508 , 73.67624 ]],\n",
       "      dtype=float32)>"
      ]
     },
     "execution_count": 86,
     "metadata": {},
     "output_type": "execute_result"
    }
   ],
   "source": [
    "tf.tensordot(t22,tf.transpose(t23), axes=1)"
   ]
  },
  {
   "cell_type": "code",
   "execution_count": 97,
   "metadata": {},
   "outputs": [
    {
     "data": {
      "text/plain": [
       "<tf.Tensor: shape=(), dtype=int64, numpy=9>"
      ]
     },
     "execution_count": 97,
     "metadata": {},
     "output_type": "execute_result"
    }
   ],
   "source": [
    "t24=tf.range(1,11)\n",
    "tf.argmax(t24)"
   ]
  },
  {
   "cell_type": "code",
   "execution_count": 98,
   "metadata": {},
   "outputs": [
    {
     "data": {
      "text/plain": [
       "<tf.Tensor: shape=(10, 10), dtype=float32, numpy=\n",
       "array([[0., 1., 0., 0., 0., 0., 0., 0., 0., 0.],\n",
       "       [0., 0., 1., 0., 0., 0., 0., 0., 0., 0.],\n",
       "       [0., 0., 0., 1., 0., 0., 0., 0., 0., 0.],\n",
       "       [0., 0., 0., 0., 1., 0., 0., 0., 0., 0.],\n",
       "       [0., 0., 0., 0., 0., 1., 0., 0., 0., 0.],\n",
       "       [0., 0., 0., 0., 0., 0., 1., 0., 0., 0.],\n",
       "       [0., 0., 0., 0., 0., 0., 0., 1., 0., 0.],\n",
       "       [0., 0., 0., 0., 0., 0., 0., 0., 1., 0.],\n",
       "       [0., 0., 0., 0., 0., 0., 0., 0., 0., 1.],\n",
       "       [0., 0., 0., 0., 0., 0., 0., 0., 0., 0.]], dtype=float32)>"
      ]
     },
     "execution_count": 98,
     "metadata": {},
     "output_type": "execute_result"
    }
   ],
   "source": [
    "tf.one_hot(t24, depth =10)"
   ]
  }
 ],
 "metadata": {
  "kernelspec": {
   "display_name": "Python 3",
   "language": "python",
   "name": "python3"
  },
  "language_info": {
   "codemirror_mode": {
    "name": "ipython",
    "version": 3
   },
   "file_extension": ".py",
   "mimetype": "text/x-python",
   "name": "python",
   "nbconvert_exporter": "python",
   "pygments_lexer": "ipython3",
   "version": "3.10.0"
  },
  "orig_nbformat": 4
 },
 "nbformat": 4,
 "nbformat_minor": 2
}
